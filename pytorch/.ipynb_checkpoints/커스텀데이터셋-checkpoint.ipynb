{
 "cells": [
  {
   "cell_type": "markdown",
   "metadata": {
    "id": "k0rp9rau9lq3"
   },
   "source": [
    "# 커스텀 데이터 셋\n",
    "---\n",
    "torch.utils.data.Dataset을 상속받아 직접 커스텀 데이터셋을 만드는 경우도 있다. torch.utils.data.Dataset은 파이토치에서 데이터셋을 제공하는 추상 클래스 이다. Dataset을 상속받아 다음 메소드들을 오버라이드 하여 커스텀 데이터셋을 만들어 보자."
   ]
  },
  {
   "cell_type": "markdown",
   "metadata": {
    "id": "soQQsJ2V9lin"
   },
   "source": [
    "커스텀 데이터 셋을 만들 때, 가장 기본 적인 뼈대는 아래와 같다. 여기서 필요한 기본적인 define 은 3개이다."
   ]
  },
  {
   "cell_type": "code",
   "execution_count": null,
   "metadata": {
    "id": "WBt-aTB09-2I"
   },
   "outputs": [],
   "source": [
    "class CustomDataset(torch.utils.data.Dataset):\n",
    "  def __init__(self):\n",
    "    데이터셋의 전처리를 해주는 부분\n",
    "\n",
    "  def __len__(self):\n",
    "    데이터셋의 길이. 즉, 총 샘플의 수를 적어주는 부분\n",
    "\n",
    "  def __getitem__(self.idx):\n",
    "    데이터셋에서 특정 1개의 샘플을 가져오는 함수"
   ]
  },
  {
   "cell_type": "markdown",
   "metadata": {
    "id": "jkIwNQP39lab"
   },
   "source": [
    "# Custom Dataset으로 선형 회귀 구현"
   ]
  },
  {
   "cell_type": "code",
   "execution_count": 1,
   "metadata": {
    "id": "Gd_-N0-k9hR_"
   },
   "outputs": [],
   "source": [
    "import torch\n",
    "import torch.nn.functional as F"
   ]
  },
  {
   "cell_type": "code",
   "execution_count": 2,
   "metadata": {
    "id": "cYsd8JE0-Wwf"
   },
   "outputs": [],
   "source": [
    "from torch.utils.data import Dataset\n",
    "from torch.utils.data import DataLoader"
   ]
  },
  {
   "cell_type": "code",
   "execution_count": 4,
   "metadata": {
    "id": "sv4ho9Jd-bRt"
   },
   "outputs": [],
   "source": [
    "# Dataset 상속\n",
    "\n",
    "class CustomDataset(Dataset):\n",
    "\n",
    "  def __init__(self):\n",
    "    self.x_data = [[73, 80, 75],\n",
    "                   [93, 88, 93],\n",
    "                   [89, 91, 90],\n",
    "                   [96, 98, 100],\n",
    "                   [73, 66, 70]]\n",
    "    self.y_data = [[152], [185], [180], [196], [142]]\n",
    "\n",
    "  # 총 데이터의 개수를 리턴\n",
    "  def __len__(self):\n",
    "    return len(self.x_data)\n",
    "\n",
    "  # 인덱스를 입력받아 그에 맵핑되는 입출력 데이터를 파이토치의 Tensor 형태로 리턴\n",
    "  def __getitem__(self,idx):\n",
    "    x = torch.FloatTensor(self.x_data[idx])\n",
    "    y = torch.FloatTensor(self.y_data[idx])\n",
    "\n",
    "    return x,y"
   ]
  },
  {
   "cell_type": "code",
   "execution_count": 6,
   "metadata": {
    "id": "knS-NXv3-q8C"
   },
   "outputs": [],
   "source": [
    "dataset = CustomDataset()\n",
    "dataloader = DataLoader(dataset, batch_size = 2, shuffle = True)"
   ]
  },
  {
   "cell_type": "code",
   "execution_count": 7,
   "metadata": {
    "id": "3qPKjEOP-_oY"
   },
   "outputs": [],
   "source": [
    "model = torch.nn.Linear(3,1)\n",
    "optimizer =  torch.optim.SGD(model.parameters(), lr=1e-5)"
   ]
  },
  {
   "cell_type": "code",
   "execution_count": 11,
   "metadata": {
    "colab": {
     "base_uri": "https://localhost:8080/"
    },
    "id": "-iCIBEjF_J9d",
    "outputId": "5db3bc2f-620e-4f2c-f222-6231f0aa5648"
   },
   "outputs": [
    {
     "name": "stdout",
     "output_type": "stream",
     "text": [
      "Epoch    0/20 Batch 1/3 Cost: 1.270208\n",
      "Epoch    0/20 Batch 2/3 Cost: 1.238879\n",
      "Epoch    0/20 Batch 3/3 Cost: 0.502010\n",
      "Epoch    1/20 Batch 1/3 Cost: 2.464774\n",
      "Epoch    1/20 Batch 2/3 Cost: 1.432660\n",
      "Epoch    1/20 Batch 3/3 Cost: 0.305616\n",
      "Epoch    2/20 Batch 1/3 Cost: 1.501299\n",
      "Epoch    2/20 Batch 2/3 Cost: 0.365619\n",
      "Epoch    2/20 Batch 3/3 Cost: 3.058549\n",
      "Epoch    3/20 Batch 1/3 Cost: 1.082004\n",
      "Epoch    3/20 Batch 2/3 Cost: 1.971054\n",
      "Epoch    3/20 Batch 3/3 Cost: 2.081745\n",
      "Epoch    4/20 Batch 1/3 Cost: 0.430196\n",
      "Epoch    4/20 Batch 2/3 Cost: 1.553120\n",
      "Epoch    4/20 Batch 3/3 Cost: 2.008862\n",
      "Epoch    5/20 Batch 1/3 Cost: 1.475130\n",
      "Epoch    5/20 Batch 2/3 Cost: 0.932231\n",
      "Epoch    5/20 Batch 3/3 Cost: 0.962367\n",
      "Epoch    6/20 Batch 1/3 Cost: 1.404747\n",
      "Epoch    6/20 Batch 2/3 Cost: 1.039655\n",
      "Epoch    6/20 Batch 3/3 Cost: 0.662887\n",
      "Epoch    7/20 Batch 1/3 Cost: 1.246150\n",
      "Epoch    7/20 Batch 2/3 Cost: 1.353452\n",
      "Epoch    7/20 Batch 3/3 Cost: 0.439946\n",
      "Epoch    8/20 Batch 1/3 Cost: 0.240449\n",
      "Epoch    8/20 Batch 2/3 Cost: 3.175577\n",
      "Epoch    8/20 Batch 3/3 Cost: 0.854756\n",
      "Epoch    9/20 Batch 1/3 Cost: 1.294984\n",
      "Epoch    9/20 Batch 2/3 Cost: 0.462047\n",
      "Epoch    9/20 Batch 3/3 Cost: 2.513020\n",
      "Epoch   10/20 Batch 1/3 Cost: 1.088999\n",
      "Epoch   10/20 Batch 2/3 Cost: 2.311083\n",
      "Epoch   10/20 Batch 3/3 Cost: 0.454970\n",
      "Epoch   11/20 Batch 1/3 Cost: 1.453274\n",
      "Epoch   11/20 Batch 2/3 Cost: 1.097044\n",
      "Epoch   11/20 Batch 3/3 Cost: 0.607518\n",
      "Epoch   12/20 Batch 1/3 Cost: 2.311088\n",
      "Epoch   12/20 Batch 2/3 Cost: 1.479283\n",
      "Epoch   12/20 Batch 3/3 Cost: 0.302722\n",
      "Epoch   13/20 Batch 1/3 Cost: 1.423610\n",
      "Epoch   13/20 Batch 2/3 Cost: 1.183791\n",
      "Epoch   13/20 Batch 3/3 Cost: 1.023112\n",
      "Epoch   14/20 Batch 1/3 Cost: 1.457496\n",
      "Epoch   14/20 Batch 2/3 Cost: 0.375783\n",
      "Epoch   14/20 Batch 3/3 Cost: 2.998061\n",
      "Epoch   15/20 Batch 1/3 Cost: 0.924000\n",
      "Epoch   15/20 Batch 2/3 Cost: 2.579379\n",
      "Epoch   15/20 Batch 3/3 Cost: 0.485371\n",
      "Epoch   16/20 Batch 1/3 Cost: 1.446317\n",
      "Epoch   16/20 Batch 2/3 Cost: 1.093799\n",
      "Epoch   16/20 Batch 3/3 Cost: 0.596036\n",
      "Epoch   17/20 Batch 1/3 Cost: 1.248592\n",
      "Epoch   17/20 Batch 2/3 Cost: 0.659571\n",
      "Epoch   17/20 Batch 3/3 Cost: 2.674105\n",
      "Epoch   18/20 Batch 1/3 Cost: 1.099430\n",
      "Epoch   18/20 Batch 2/3 Cost: 1.222213\n",
      "Epoch   18/20 Batch 3/3 Cost: 1.667352\n",
      "Epoch   19/20 Batch 1/3 Cost: 0.939564\n",
      "Epoch   19/20 Batch 2/3 Cost: 1.123095\n",
      "Epoch   19/20 Batch 3/3 Cost: 1.720374\n",
      "Epoch   20/20 Batch 1/3 Cost: 0.345576\n",
      "Epoch   20/20 Batch 2/3 Cost: 1.583894\n",
      "Epoch   20/20 Batch 3/3 Cost: 1.996338\n"
     ]
    }
   ],
   "source": [
    "epochs = 20\n",
    "for epoch in range(epochs + 1):\n",
    "  for batch_idx, samples in enumerate(dataloader):\n",
    "    #print(batch_idx)\n",
    "    #print(samples)\n",
    "\n",
    "    x_train, y_train = samples\n",
    "    # H(x) 계산\n",
    "    prediction = model(x_train)\n",
    "\n",
    "    # cost 계산\n",
    "    cost = F.mse_loss(prediction,y_train)\n",
    "\n",
    "    # cost로 H(x) 계산\n",
    "\n",
    "    optimizer.zero_grad()\n",
    "    cost.backward()\n",
    "    optimizer.step()\n",
    "\n",
    "    print('Epoch {:4d}/{} Batch {}/{} Cost: {:.6f}'.format(\n",
    "    epoch, epochs, batch_idx+1, len(dataloader),\n",
    "    cost.item()\n",
    "    ))"
   ]
  },
  {
   "cell_type": "code",
   "execution_count": 12,
   "metadata": {
    "colab": {
     "base_uri": "https://localhost:8080/"
    },
    "id": "x-HjaSV4_Ibm",
    "outputId": "4d763763-b098-429f-d687-79afb197f1ae"
   },
   "outputs": [
    {
     "name": "stdout",
     "output_type": "stream",
     "text": [
      "훈련 후 입력이 73, 80, 75일 때의 예측값 :  tensor([[153.0734]], grad_fn=<AddmmBackward>)\n"
     ]
    }
   ],
   "source": [
    "# 임의의 입력(73, 80, 75)를 선언\n",
    "new_var = torch.FloatTensor([[73, 80, 75]])\n",
    "# 입력한 값[73, 80, 75]에 대해서 예측값 y를 리턴받아서 pred_y에 저장\n",
    "pred_y = model(new_var)\n",
    "print('훈련 후 입력이 73, 80, 75일 때의 예측값 : ', pred_y)"
   ]
  },
  {
   "cell_type": "markdown",
   "metadata": {},
   "source": [
    "### 이 노트는 [여기](https://wikidocs.net/57165) 를 참고하였습니다."
   ]
  }
 ],
 "metadata": {
  "colab": {
   "collapsed_sections": [],
   "name": "커스텀데이터셋",
   "provenance": []
  },
  "kernelspec": {
   "display_name": "Python 3",
   "language": "python",
   "name": "python3"
  },
  "language_info": {
   "codemirror_mode": {
    "name": "ipython",
    "version": 3
   },
   "file_extension": ".py",
   "mimetype": "text/x-python",
   "name": "python",
   "nbconvert_exporter": "python",
   "pygments_lexer": "ipython3",
   "version": "3.8.5"
  }
 },
 "nbformat": 4,
 "nbformat_minor": 1
}
