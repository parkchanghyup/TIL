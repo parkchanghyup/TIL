{
 "cells": [
  {
   "cell_type": "markdown",
   "metadata": {},
   "source": [
    "# 회귀 Summaray\n",
    "---"
   ]
  },
  {
   "cell_type": "markdown",
   "metadata": {},
   "source": [
    "- 선형 회귀와 비용 함수 RSS\n",
    "- 경사 하강법\n",
    "- 다항회귀와 과소적합/과대적합\n",
    "- 규제 - L2 규제를 적용한 릿지, L1 규제를 적용한 라쏘, L1과 L2 규제가 결합된 엘라스틱넷 회귀\n",
    "- 분류를 위한 로지스틱 회귀\n",
    "- CART 기반의 회귀 트리\n",
    "- 왜곡도 개선을 위한 데이터 변환가 원-핫 인코딩\n",
    "- 실습 예제를 통한 데이터 정제와 변환 그리고 선형 회귀/회귀 트리/혼합 모델/ 스태킹 모델 학습/ 예측/평가 비교"
   ]
  },
  {
   "cell_type": "code",
   "execution_count": null,
   "metadata": {},
   "outputs": [],
   "source": []
  }
 ],
 "metadata": {
  "kernelspec": {
   "display_name": "Python 3",
   "language": "python",
   "name": "python3"
  },
  "language_info": {
   "codemirror_mode": {
    "name": "ipython",
    "version": 3
   },
   "file_extension": ".py",
   "mimetype": "text/x-python",
   "name": "python",
   "nbconvert_exporter": "python",
   "pygments_lexer": "ipython3",
   "version": "3.7.3"
  },
  "toc": {
   "base_numbering": 1,
   "nav_menu": {},
   "number_sections": true,
   "sideBar": true,
   "skip_h1_title": false,
   "title_cell": "Table of Contents",
   "title_sidebar": "Contents",
   "toc_cell": false,
   "toc_position": {},
   "toc_section_display": true,
   "toc_window_display": false
  }
 },
 "nbformat": 4,
 "nbformat_minor": 2
}
