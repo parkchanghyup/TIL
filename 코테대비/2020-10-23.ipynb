{
 "cells": [
  {
   "cell_type": "code",
   "execution_count": 12,
   "metadata": {
    "ExecuteTime": {
     "end_time": "2020-10-23T11:48:37.257847Z",
     "start_time": "2020-10-23T11:48:37.250851Z"
    }
   },
   "outputs": [
    {
     "data": {
      "text/plain": [
       "True"
      ]
     },
     "execution_count": 12,
     "metadata": {},
     "output_type": "execute_result"
    }
   ],
   "source": [
    "# 유효한 팰린드롬\n",
    "def isPalindrome(s: str) -> bool:\n",
    "    new_s = ''\n",
    "    \n",
    "    for char in s :\n",
    "        if char.isalnum():\n",
    "            new_s +=char\n",
    "            \n",
    "    for i in range(int(len(new_s)/2)):\n",
    "        \n",
    "         if new_s[i] != new_s[-i-1]:\n",
    "                \n",
    "            return False\n",
    "\n",
    "    return True\n",
    "isPalindrome('ababa')"
   ]
  },
  {
   "cell_type": "code",
   "execution_count": 21,
   "metadata": {
    "ExecuteTime": {
     "end_time": "2020-10-23T11:55:40.442195Z",
     "start_time": "2020-10-23T11:55:40.435199Z"
    }
   },
   "outputs": [
    {
     "name": "stdout",
     "output_type": "stream",
     "text": [
      "['o', 'l', 'l', 'e', 'h']\n"
     ]
    }
   ],
   "source": [
    "from typing import List\n",
    "\n",
    "# 문자열 뒤집기\n",
    "def reverseString(s: List[str]) -> None:\n",
    "    left = 0\n",
    "    right = len(s)-1\n",
    "    \n",
    "    while left < right:\n",
    "        s[left], s[right] = s[right], s[left]\n",
    "        left += 1\n",
    "        right -= 1\n",
    "    print(s)\n",
    "    \n",
    "reverseString([\"h\",\"e\",\"l\",\"l\",\"o\"])   "
   ]
  },
  {
   "cell_type": "code",
   "execution_count": 29,
   "metadata": {
    "ExecuteTime": {
     "end_time": "2020-10-23T12:05:32.113031Z",
     "start_time": "2020-10-23T12:05:32.105036Z"
    },
    "scrolled": true
   },
   "outputs": [
    {
     "name": "stdout",
     "output_type": "stream",
     "text": [
      "['let1 art can', 'let3 art zero', 'let2 own kit dig', 'dig1 8 1 5 1', 'dig2 3 6']\n"
     ]
    }
   ],
   "source": [
    "# 로그파일 재정렬\n",
    "from typing import List\n",
    "\n",
    "def reorderLogFiles(logs: List[str]) -> List[str]:\n",
    "    letters = []\n",
    "    digit = []\n",
    "    \n",
    "    for log in logs :\n",
    "        if log.split(' ')[1].isdigit():\n",
    "            digit.append(log)\n",
    "        else :\n",
    "            letters.append(log)\n",
    "    \n",
    "    letters.sort(key = lambda x: ( (x.split(\" \")[1:],x.split(' '[0]))))\n",
    "    \n",
    "    return (letters+digit)\n",
    "            \n",
    "    \n",
    "    \n",
    "    \n",
    "    \n",
    "    \n",
    "reorderLogFiles(logs = [\"dig1 8 1 5 1\",\"let1 art can\",\"dig2 3 6\",\"let2 own kit dig\",\"let3 art zero\"])"
   ]
  },
  {
   "cell_type": "code",
   "execution_count": 61,
   "metadata": {
    "ExecuteTime": {
     "end_time": "2020-10-23T12:16:23.755381Z",
     "start_time": "2020-10-23T12:16:23.747387Z"
    }
   },
   "outputs": [
    {
     "name": "stdout",
     "output_type": "stream",
     "text": [
      "ball\n"
     ]
    }
   ],
   "source": [
    "# 가장 흔한 단어\n",
    "import collections\n",
    "import re\n",
    "def mostCommonWord( paragraph: str, banned: List[str]) -> str:\n",
    "    \n",
    "    words = [x.lower() for x  in re.sub(r'[^\\w]',' ',paragraph).split() \n",
    "             if x not in banned ]\n",
    "    \n",
    "    answer  =  collections.Counter(words)\n",
    "    return answer.most_common(1)[0][0]\n",
    "    \n",
    "paragraph = \"Bob hit a ball, the hit BALL flew far after it was hit.\"\n",
    "banned = [\"hit\"]\n",
    "\n",
    "mostCommonWord(paragraph,banned)"
   ]
  },
  {
   "cell_type": "code",
   "execution_count": 74,
   "metadata": {
    "ExecuteTime": {
     "end_time": "2020-10-23T12:36:10.461861Z",
     "start_time": "2020-10-23T12:36:10.452867Z"
    }
   },
   "outputs": [
    {
     "data": {
      "text/plain": [
       "[['bat'], ['eat', 'tea', 'ate'], ['tan', 'nat']]"
      ]
     },
     "execution_count": 74,
     "metadata": {},
     "output_type": "execute_result"
    }
   ],
   "source": [
    "import collections\n",
    "# 에너그램\n",
    "def groupAnagrams( strs: List[str]) -> List[List[str]]:\n",
    "    dic =  collections.defaultdict(list)\n",
    "    \n",
    "    for word in strs:\n",
    "        dic[''.join(sorted(word))].append(word)\n",
    "    return  sorted(list(dic.values()))\n",
    "    \n",
    "    \n",
    "groupAnagrams(strs = [\"eat\",\"tea\",\"tan\",\"ate\",\"nat\",\"bat\"])      "
   ]
  },
  {
   "cell_type": "code",
   "execution_count": 104,
   "metadata": {
    "ExecuteTime": {
     "end_time": "2020-10-23T13:12:31.367863Z",
     "start_time": "2020-10-23T13:12:31.357860Z"
    }
   },
   "outputs": [
    {
     "data": {
      "text/plain": [
       "'a'"
      ]
     },
     "execution_count": 104,
     "metadata": {},
     "output_type": "execute_result"
    }
   ],
   "source": [
    "def longestPalindrome( s: str) -> str:\n",
    "    #팰린드롬 판별 및 투포인터 확장\n",
    "    def check(left: int, right: int) -> str:\n",
    "        while left >= 0 and right <= len(s) and s[left] == s[right - 1]:\n",
    "            left -= 1\n",
    "            right += 1\n",
    "        return s[left + 1:right - 1]\n",
    "    \n",
    "    # 해당 사항이 없을 때 빠르게 리턴\n",
    "    if len(s) <2 or s==s[::-1]:\n",
    "        return s\n",
    "    result = ''\n",
    "    #슬라디이 윈도우 우측으로 이동\n",
    "    for i in range(len(s) -1):\n",
    "        result = max(result,\n",
    "                    expand(i, i+1),\n",
    "                    expand(i,i+2),\n",
    "                    key=len)\n",
    "        \n",
    "    return result\n",
    "longestPalindrome('a')"
   ]
  },
  {
   "cell_type": "code",
   "execution_count": 111,
   "metadata": {
    "ExecuteTime": {
     "end_time": "2020-10-23T13:14:29.613046Z",
     "start_time": "2020-10-23T13:14:29.602053Z"
    }
   },
   "outputs": [
    {
     "data": {
      "text/plain": [
       "'aa'"
      ]
     },
     "execution_count": 111,
     "metadata": {},
     "output_type": "execute_result"
    }
   ],
   "source": [
    "# 가장 긴 팰린들롬 문자열\n",
    "\n",
    "\n",
    "def longestPalindrome(s: str) -> str:\n",
    "    def check(left, right):\n",
    "\n",
    "        while 0 <= left and right <= len(s) and s[left] == s[right-1]:\n",
    "            left -= 1\n",
    "            right += 1\n",
    "\n",
    "        return s[left + 1:right-1]\n",
    "\n",
    "    result = ''\n",
    "    \n",
    "    if len(s) <2 :\n",
    "        return s\n",
    "    \n",
    "    for i in range(len(s) - 1):\n",
    "        result = max(result, \n",
    "                     check(i, i + 1), \n",
    "                     check(i, i + 2), key=len)\n",
    "    return result\n",
    "\n",
    "\n",
    "longestPalindrome('aa')"
   ]
  },
  {
   "cell_type": "code",
   "execution_count": null,
   "metadata": {},
   "outputs": [],
   "source": []
  },
  {
   "cell_type": "code",
   "execution_count": null,
   "metadata": {},
   "outputs": [],
   "source": []
  },
  {
   "cell_type": "code",
   "execution_count": null,
   "metadata": {},
   "outputs": [],
   "source": []
  }
 ],
 "metadata": {
  "kernelspec": {
   "display_name": "Python 3",
   "language": "python",
   "name": "python3"
  },
  "language_info": {
   "codemirror_mode": {
    "name": "ipython",
    "version": 3
   },
   "file_extension": ".py",
   "mimetype": "text/x-python",
   "name": "python",
   "nbconvert_exporter": "python",
   "pygments_lexer": "ipython3",
   "version": "3.7.3"
  },
  "toc": {
   "base_numbering": 1,
   "nav_menu": {},
   "number_sections": true,
   "sideBar": true,
   "skip_h1_title": false,
   "title_cell": "Table of Contents",
   "title_sidebar": "Contents",
   "toc_cell": false,
   "toc_position": {},
   "toc_section_display": true,
   "toc_window_display": false
  }
 },
 "nbformat": 4,
 "nbformat_minor": 4
}
