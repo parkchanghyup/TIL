{
 "cells": [
  {
   "cell_type": "code",
   "execution_count": null,
   "metadata": {
    "ExecuteTime": {
     "end_time": "2020-10-28T01:28:42.214796Z",
     "start_time": "2020-10-28T01:28:42.206818Z"
    }
   },
   "outputs": [],
   "source": [
    "# 모험가 길드\n",
    "# 모험가 N명 \n",
    "#공포도가 X인 모험가는 반드시 X명 이상으로\n",
    "# 모든 모험가가 다 떠날 필요 x \n",
    "# 최대 몇개의 모험가 그룹 ?\n",
    "\n",
    "\n",
    "\n",
    "N = 5\n",
    "users = [2,3,1,2,2]\n",
    "\n",
    "users.sort()\n",
    "\n",
    "result = 0\n",
    "idx = 0\n",
    "\n",
    "count = 0\n",
    "for i in users:\n",
    "    count +=1\n",
    "    if count>= i :\n",
    "        result +=1\n",
    "        count = 0\n",
    "print(result)"
   ]
  },
  {
   "cell_type": "code",
   "execution_count": 13,
   "metadata": {
    "ExecuteTime": {
     "end_time": "2020-10-28T01:32:02.286702Z",
     "start_time": "2020-10-28T01:32:02.278099Z"
    }
   },
   "outputs": [
    {
     "name": "stdout",
     "output_type": "stream",
     "text": [
      "2 2\n",
      "2\n"
     ]
    }
   ],
   "source": [
    "# 곱하기 혹은 더하기\n",
    "# 각자리 숫자 0~9 로이루어진 문자열 S\n",
    "# 숫자 사이에 X 혹은 +연산자를 넣어 결과적으로 만들어질 수 이쓴ㄴ 가장 큰수\n",
    "\n",
    "S = '000000012'\n",
    "result = 0\n",
    "for char in S:\n",
    "    if result == 0:\n",
    "        result+= int(char)\n",
    "        continue\n",
    "    if int(char) in [0,1]:\n",
    "        result+=int(char)\n",
    "    else :\n",
    "        result *=int(char)\n",
    "    print(char,result)\n",
    "        \n",
    "print(result)\n",
    "    \n",
    "    "
   ]
  },
  {
   "cell_type": "code",
   "execution_count": 22,
   "metadata": {
    "ExecuteTime": {
     "end_time": "2020-10-28T01:39:00.208666Z",
     "start_time": "2020-10-28T01:38:57.850822Z"
    }
   },
   "outputs": [
    {
     "name": "stdout",
     "output_type": "stream",
     "text": [
      "0001100\n",
      "1\n"
     ]
    }
   ],
   "source": [
    "# 문자열 뒤집기\n",
    "\n",
    "# 0과 1로만 이루어진 문자열 S\n",
    "# S에 있는 모든 숫자를 전부 같게\n",
    "# 최소로뒤집어서 같게 \n",
    "\n",
    "\n",
    "S = input()\n",
    "\n",
    "S0 = S.split('1')\n",
    "S1 = S.split('0')\n",
    "S1 = len(S1)-S.split('0').count('')\n",
    "S0 = len(S0)-S.split('1').count('')\n",
    "print(min(S1,S0))"
   ]
  },
  {
   "cell_type": "code",
   "execution_count": null,
   "metadata": {},
   "outputs": [],
   "source": []
  },
  {
   "cell_type": "code",
   "execution_count": 30,
   "metadata": {
    "ExecuteTime": {
     "end_time": "2020-10-28T02:16:42.262712Z",
     "start_time": "2020-10-28T02:16:42.255730Z"
    }
   },
   "outputs": [
    {
     "name": "stdout",
     "output_type": "stream",
     "text": [
      "2\n",
      "3\n",
      "5\n",
      "8\n",
      "8\n"
     ]
    }
   ],
   "source": [
    "# 만들수 없는 금액\n",
    "\n",
    "# N 개의 동전을이용해서 만들 수 없는 최솟값\n",
    "\n",
    "N = 5\n",
    "coins = [3,2,1,1,9]\n",
    "\n",
    "coins.sort()\n",
    "\n",
    "max_coin = 0 \n",
    "\n",
    "\n",
    "target = 1\n",
    "for x in coins:\n",
    "    if target < x :\n",
    "        break\n",
    "    target+=x\n",
    "    print(target)\n",
    "    \n",
    "print(target)"
   ]
  },
  {
   "cell_type": "code",
   "execution_count": 47,
   "metadata": {
    "ExecuteTime": {
     "end_time": "2020-10-28T02:36:31.488225Z",
     "start_time": "2020-10-28T02:36:31.476263Z"
    }
   },
   "outputs": [
    {
     "name": "stdout",
     "output_type": "stream",
     "text": [
      "25\n"
     ]
    }
   ],
   "source": [
    "# 볼링공 고르기\n",
    "# 볼링공 총 N 개\n",
    "# 공의 번호 1번abs부터 순서대로# 같은 공 여러개 있지만 다른공으로 간주\n",
    "# 공의 무게는 1~ M (자연수)\n",
    "\n",
    "\n",
    "import itertools\n",
    "import collections\n",
    "N,M = 5,3\n",
    "\n",
    "balls = [1,5,4,3,2,4,5,2]\n",
    "\n",
    "balls_count = collections.Counter(balls)\n",
    "\n",
    "result = 0\n",
    "for w in balls_count.keys():\n",
    "    cnt= 0\n",
    "    for ball in balls:\n",
    "        if w<ball and ball !=w :\n",
    "            cnt +=1\n",
    "    result += cnt*balls_count[w]\n",
    "    \n",
    "print(result)\n",
    "    \n",
    "    \n",
    "    "
   ]
  },
  {
   "cell_type": "code",
   "execution_count": null,
   "metadata": {},
   "outputs": [],
   "source": [
    "# 무지의 먹방 라이브\n",
    "import heapq\n",
    "\n",
    "def solution(food_times, k):\n",
    "    \n",
    "    # 전체 음식을 먹는 시간보다 K가 크거나 같다면 -1    \n",
    "    if sum(food_times) <= k:\n",
    "        return -1\n",
    "    \n",
    "    #시간이 작은 음식부터 빼야 하므로 우선순위 큐를 이용\n",
    "    q = []\n",
    "    for i in range(len(food_times)):\n",
    "        # (음식시간,음식 번호) 형태로 우선순위 큐에 삽입\n",
    "        heapq.heappush(q,(food_times[i],i+1))\n",
    "    sum_value = 0 # 먹기 위해 사용한 시간\n",
    "    previous = 0 # 직전에 다 먹은 음식 시간\n",
    "    \n",
    "    length = len(food_times) # 남은 음식의 개수\n",
    "    \n",
    "    # sum_value + (현재의 음식 시간 - 이전의 음식 시간)* 현재 음식 개수와 k 비교\n",
    "    while sum_value +((q[0][0] - previous)*length)<=k:\n",
    "        now = heapq.heappop(q)[0]\n",
    "        sum_value += (now-previous) * length\n",
    "        length -=1 # 다 먹은 음식 제외\n",
    "        previous = now # 이전 음식 시간 재설정\n",
    "        \n",
    "    # 남은 음식 중에서 몇 번째 음식인지 확인하여 출력\n",
    "    result = sorted(q,key = lambda x:x[1]) #음식의 번호 기준으로 정렬\n",
    "    \n",
    "    return result[(k-sum_value)& length][1]\n",
    "    "
   ]
  },
  {
   "cell_type": "code",
   "execution_count": 54,
   "metadata": {
    "ExecuteTime": {
     "end_time": "2020-10-28T03:11:15.753192Z",
     "start_time": "2020-10-28T03:11:14.456156Z"
    }
   },
   "outputs": [
    {
     "name": "stdout",
     "output_type": "stream",
     "text": [
      "7755\n",
      "READY\n"
     ]
    }
   ],
   "source": [
    "# 렄키 스트레이트\n",
    "# 현재 ㅐㅋ릭터의 점수 N 일 때 자릿수를 기준으로 점수 N을 반으로나우어 왼쪽각자리 합 = 오른쪽 각 자리합 : 럭키스트레이트 가능\n",
    "# 현재 럭키 스트레이트 가능한 상태인지 확인 .\n",
    "\n",
    "s= input()\n",
    "mid = len(s) // 2\n",
    "\n",
    "left ,right = 0,0\n",
    "\n",
    "left = sum([int(x) for x in s[:mid]])\n",
    "right = sum([int(x) for x in s[mid:]])\n",
    "\n",
    "if left == right:\n",
    "    print('LUCKY')\n",
    "else :\n",
    "    print(\"READY\")"
   ]
  },
  {
   "cell_type": "code",
   "execution_count": 59,
   "metadata": {
    "ExecuteTime": {
     "end_time": "2020-10-28T03:14:32.513557Z",
     "start_time": "2020-10-28T03:14:32.503583Z"
    }
   },
   "outputs": [
    {
     "name": "stdout",
     "output_type": "stream",
     "text": [
      "ADDIJJJKKLSS20\n"
     ]
    }
   ],
   "source": [
    "# 문자열 재정렬\n",
    "# 문자열의 알파벳을 오름차순 정렬, 그뒤에 모든 숫자를 더한 값을 이어서 출력\n",
    "S = \"AJKDLSI412K4JSJ9D\"\n",
    "word=[]\n",
    "num = 0\n",
    "for char in S:\n",
    "    if char.isalpha():\n",
    "        word.append(char)\n",
    "    else :\n",
    "        num+= int(char)\n",
    "word.sort()\n",
    "print(''.join(word)+str(num))\n",
    "   z     "
   ]
  },
  {
   "cell_type": "code",
   "execution_count": 153,
   "metadata": {
    "ExecuteTime": {
     "end_time": "2020-10-28T04:26:10.736106Z",
     "start_time": "2020-10-28T04:26:10.720180Z"
    }
   },
   "outputs": [
    {
     "name": "stdout",
     "output_type": "stream",
     "text": [
      "10a10bc\n",
      "5aa5bbc\n",
      "3aaaabb2bbbbbc\n",
      "2aaaaaabb2bbbbc\n",
      "2aaaaa2bbbbbc\n",
      "aaaaaaaaaabbbbbbbbbbc\n",
      "aaaaaaaaaabbbbbbbbbbc\n",
      "aaaaaaaaaabbbbbbbbbbc\n",
      "aaaaaaaaaabbbbbbbbbbc\n",
      "aaaaaaaaaabbbbbbbbbbc\n"
     ]
    },
    {
     "data": {
      "text/plain": [
       "7"
      ]
     },
     "execution_count": 153,
     "metadata": {},
     "output_type": "execute_result"
    }
   ],
   "source": [
    "# 문자열 압축\n",
    "def solution(s):\n",
    "\n",
    "    # 문자열을 1개 단위로 잘라 압축했을때를 최소 길이로 지정\n",
    "    min_len = len(s)\n",
    "\n",
    "    for cut in range(1, len(s)//2+1):\n",
    "        new_word = ''\n",
    "        count = 0\n",
    "        word = ''\n",
    "        for i in range(0, len(s), cut):\n",
    "            \n",
    "            if word == '':\n",
    "                word = s[i:i+cut]\n",
    "                count = 1\n",
    "                continue\n",
    "            \n",
    "            else :\n",
    "                if word == s[i:i+cut]:\n",
    "                    count+=1\n",
    "                else :\n",
    "                    new_word += str(count) + word if count >=2 else word\n",
    "                    count = 1\n",
    "                    word = s[i:i+cut]\n",
    "        \n",
    "        new_word+=str(count) + word if count >=2 else word\n",
    "        print(new_word)\n",
    "        \n",
    "        min_len = min(min_len, len(new_word))\n",
    "      \n",
    "    return min_len\n",
    "\n",
    "solution(\"aaaaaaaaaabbbbbbbbbbc\")"
   ]
  },
  {
   "cell_type": "code",
   "execution_count": 77,
   "metadata": {
    "ExecuteTime": {
     "end_time": "2020-10-28T03:49:39.861186Z",
     "start_time": "2020-10-28T03:49:39.854207Z"
    }
   },
   "outputs": [
    {
     "data": {
      "text/plain": [
       "'23'"
      ]
     },
     "execution_count": 77,
     "metadata": {},
     "output_type": "execute_result"
    }
   ],
   "source": [
    "a='123'\n",
    "a.replace('1','')"
   ]
  },
  {
   "cell_type": "code",
   "execution_count": 65,
   "metadata": {
    "ExecuteTime": {
     "end_time": "2020-10-28T03:34:26.326783Z",
     "start_time": "2020-10-28T03:34:26.320800Z"
    }
   },
   "outputs": [
    {
     "data": {
      "text/plain": [
       "True"
      ]
     },
     "execution_count": 65,
     "metadata": {},
     "output_type": "execute_result"
    }
   ],
   "source": [
    "a = '1'\n",
    "a.isdigit()"
   ]
  },
  {
   "cell_type": "code",
   "execution_count": 192,
   "metadata": {
    "ExecuteTime": {
     "end_time": "2020-10-28T04:59:07.503528Z",
     "start_time": "2020-10-28T04:59:07.477088Z"
    }
   },
   "outputs": [
    {
     "data": {
      "text/plain": [
       "False"
      ]
     },
     "execution_count": 192,
     "metadata": {},
     "output_type": "execute_result"
    }
   ],
   "source": [
    "from typing import List\n",
    "\n",
    "def rotation(key:List)->List:\n",
    "    _ = [len(key) * [0] for _ in range(len(key))]\n",
    "    \n",
    "    for i in range(len(key)):\n",
    "        for j in range(len(key)):\n",
    "            _[i][j]  = key[len(key)-1-j][i]\n",
    "    return _\n",
    "    \n",
    "    \n",
    "\n",
    "\n",
    "def solution(key, lock):\n",
    "    answer = False\n",
    "\n",
    "    new_array_len = (len(key) - 1) * 2 + len(lock)\n",
    "\n",
    "    new_array = [[0] * new_array_len for _ in range(new_array_len)]\n",
    "    \n",
    "    def check(i,j,array:List,key:List)->bool:\n",
    "        for ii in range(i,i+len(key)):\n",
    "            for jj in range(j,j+len(key)):\n",
    "                array[ii][jj] += key[ii-i][jj-j]\n",
    "\n",
    "        for i in range(len(key) - 1, len(key) - 1 + len(lock)):\n",
    "            for j in range(len(key) - 1, len(key) - 1 + len(lock)):\n",
    "                if array[i][j] != 1:\n",
    "                    return False\n",
    "        return True\n",
    "\n",
    "    for i in range(len(key) - 1, len(key) - 1 + len(lock)):\n",
    "        for j in range(len(key) - 1, len(key) - 1 + len(lock)):\n",
    "\n",
    "            new_array[i][j] = lock[i - (len(key) - 1)][j - (len(key) - 1)]\n",
    "    \n",
    "    # 4번 돌리기\n",
    "    for _ in range(4):\n",
    "        \n",
    "        for i in range(0,len(key)-1+len(lock)):\n",
    "            for j in range(0,len(key)-1+len(lock)):\n",
    "                \n",
    "                if check(i,j,new_array,key) == True:\n",
    "                    return True\n",
    "                else : \n",
    "                    for ii in range(i,i+len(key)):\n",
    "                        for jj in range(j,j+len(key)):\n",
    "                            new_array[ii][jj] -= key[ii-i][jj-j]\n",
    "                \n",
    "        key = rotation(key)\n",
    "\n",
    "    \n",
    "    return answer"
   ]
  },
  {
   "cell_type": "code",
   "execution_count": 194,
   "metadata": {
    "ExecuteTime": {
     "end_time": "2020-10-28T05:25:14.749578Z",
     "start_time": "2020-10-28T05:25:09.753926Z"
    }
   },
   "outputs": [
    {
     "name": "stdout",
     "output_type": "stream",
     "text": [
      "4 4 1 1\n",
      "1 2\n",
      "1 3\n",
      "2 3\n",
      "2 4\n",
      "2\n",
      "3\n"
     ]
    }
   ],
   "source": [
    "# 특정 거리의 도시 찾기\n",
    "# N개의 도시와 M개의 단방향 도로\n",
    "# X로부터 최단 거리가 K인 모든 도시의번호\n",
    "import collections\n",
    "from collections import deque\n",
    "\n",
    "N,M,K,X = map(int,input().split())\n",
    "\n",
    "graph = collections.defaultdict(list)\n",
    "\n",
    "\n",
    "for i in range(M):\n",
    "    a,b = map(int,input().split())\n",
    "    graph[a].append(b)\n",
    "\n",
    "def bfs(start, k):\n",
    "\n",
    "    queue = deque()\n",
    "    queue.append(start)\n",
    "    cnt = 0\n",
    "    visited = [0] * (N+1)\n",
    "    visited[start] = 1\n",
    "    \n",
    "    while queue:\n",
    "        qSize = len(queue)\n",
    "\n",
    "        if cnt == k:\n",
    "            return queue\n",
    "\n",
    "        for i in range(qSize):\n",
    "            node = queue.popleft()\n",
    "\n",
    "            for next_node in graph[node]:\n",
    "                if visited[next_node] == 0:\n",
    "                    queue.append(next_node)\n",
    "                    visited[next_node] = 1\n",
    "        cnt += 1\n",
    "\n",
    "result = bfs(X,K)\n",
    "if not result : \n",
    "    print(-1)\n",
    "else :\n",
    "    for num in sorted(list(result)):\n",
    "        print(num)"
   ]
  },
  {
   "cell_type": "code",
   "execution_count": 245,
   "metadata": {
    "ExecuteTime": {
     "end_time": "2020-10-28T06:18:09.092863Z",
     "start_time": "2020-10-28T06:17:57.548961Z"
    }
   },
   "outputs": [
    {
     "name": "stdout",
     "output_type": "stream",
     "text": [
      "4 6\n",
      "0 0 0 0 0 0\n",
      "1 0 0 0 0 2\n",
      "1 1 1 0 0 2\n",
      "0 0 0 0 0 2\n",
      "9\n"
     ]
    }
   ],
   "source": [
    "## 연구소\n",
    "# 벽 은 꼭 세개\n",
    "# 0은 빈칸 1은 벽 2는 바이러스\n",
    "\n",
    "import itertools\n",
    "from collections import deque\n",
    "import copy\n",
    "\n",
    "N, M = map(int, input().split())\n",
    "node = []\n",
    "\n",
    "graph = []\n",
    "for i in range(N):\n",
    "    graph.append(list(map(int, input().split())))\n",
    "\n",
    "\n",
    "candidate = []\n",
    "\n",
    "for i in range(N):\n",
    "    for j in range(M):\n",
    "        if graph[i][j] == 0:\n",
    "            candidate .append((i, j))\n",
    "\n",
    "candidates = list(itertools.combinations(candidate, 3))\n",
    "\n",
    "\n",
    "def bfs(graph, y, x):\n",
    "    dx = [1, -1, 0, 0]\n",
    "    dy = [0, 0, 1, -1]\n",
    "    queue = deque()\n",
    "    queue.append((y, x))\n",
    "\n",
    "    while queue:\n",
    "        y, x = queue.popleft()\n",
    "\n",
    "        for i in range(4):\n",
    "            nx = x + dx[i]\n",
    "            ny = y + dy[i]\n",
    "\n",
    "            if nx > -1 and ny > -1 and nx < M and ny < N:\n",
    "                if graph[ny][nx] == 0:\n",
    "                    queue.append((ny, nx))\n",
    "                    graph[ny][nx] = 2\n",
    "\n",
    "\n",
    "result = 0\n",
    "\n",
    "for candidate in candidates:\n",
    "    new_graph = copy.deepcopy(graph)\n",
    "\n",
    "    # 벽 짓기\n",
    "    for y, x in candidate:\n",
    "        new_graph[y][x] = 1\n",
    "\n",
    "    for i in range(N):\n",
    "        for j in range(M):\n",
    "            # 바이러스 퍼짐\n",
    "            if new_graph[i][j] == 2:\n",
    "                bfs(new_graph, i, j)\n",
    "\n",
    "    # 안정구역 확인\n",
    "    cnt = 0\n",
    "    for i in range(N):\n",
    "        for j in range(M):\n",
    "            if new_graph[i][j] == 0:\n",
    "                cnt += 1\n",
    "    result = max(result, cnt)\n",
    "\n",
    "    # 벽허물기\n",
    "    for y, x in candidate:\n",
    "        new_graph[y][x] = 0\n",
    "\n",
    "print(result)"
   ]
  },
  {
   "cell_type": "code",
   "execution_count": null,
   "metadata": {},
   "outputs": [],
   "source": [
    "# 경쟁적 전염\n",
    "# 바이러스 종류 1 ~ K 번\n",
    "# 바이러스는 상하좌우로 퍼짐 \n",
    "# 이미 퍼진곳은 안퍼짐\n",
    "# S 초 뒤에 X Y 좌표에 위치한 바이러스 출력"
   ]
  },
  {
   "cell_type": "code",
   "execution_count": 254,
   "metadata": {
    "ExecuteTime": {
     "end_time": "2020-10-28T06:45:13.085144Z",
     "start_time": "2020-10-28T06:45:13.070192Z"
    }
   },
   "outputs": [],
   "source": [
    "\n",
    "# 균형 잡힌 괄호 문자열'의 인덱스 반환\n",
    "def balanced_index(p):\n",
    "    count = 0 #왼쪽 괄호의 갯수\n",
    "    for i in range(len(p)):\n",
    "        if p[i] =='(':\n",
    "            count +=1\n",
    "        else :\n",
    "            count -= 1\n",
    "        if count ==0:\n",
    "            return i\n",
    "        \n",
    "# 올바른 괄호 문자열인지 판단\n",
    "def check_proper(p):\n",
    "    count = 0  # 왼쪽 괄호의 개수\n",
    "    for i in p:\n",
    "        if i =='(':\n",
    "            count +=1\n",
    "        else :\n",
    "            if count ==0: #쌍이 맞지 않는 경우 False 반환\n",
    "                return False\n",
    "            count -=1\n",
    "    return True # 쌍이 맞는 경우 True 반환\n",
    "\n",
    "def solution(p):\n",
    "    answer = ''\n",
    "    if p =='':\n",
    "        return answer\n",
    "    \n",
    "    index = balanced_index(p)\n",
    "    u = p[:index+1]\n",
    "    v = p[index+1:]\n",
    "    \n",
    "    # '올바른 괄호 문자열' 이면 , v에 대해 함수를 수행한 결과를 붙여 반환\n",
    "    if check_proper(u):\n",
    "        answer = u +solution(v)\n",
    "    # '올바른 괄호 문자열이 아니라면 아래의 과정을 수행\n",
    "    else :\n",
    "        answer = '('\n",
    "        answer +=solution(v)\n",
    "        answer +=')'\n",
    "        \n",
    "        u = list(u[1:-1]) # 첫 번쨰와 마지막 문자를 제거3\n",
    "        \n",
    "        for i in range(len(u)):\n",
    "            if u[i] =='(':\n",
    "                u[i] = ')'\n",
    "            else :\n",
    "                u[i] ='('\n",
    "        answer +=''+join(u)\n",
    "        \n",
    "    return answer\n",
    "                \n",
    "            \n",
    "        "
   ]
  },
  {
   "cell_type": "code",
   "execution_count": 262,
   "metadata": {
    "ExecuteTime": {
     "end_time": "2020-10-28T07:06:15.649510Z",
     "start_time": "2020-10-28T07:06:15.627570Z"
    }
   },
   "outputs": [
    {
     "name": "stdout",
     "output_type": "stream",
     "text": [
      "54 -24\n"
     ]
    }
   ],
   "source": [
    "# 연산자 끼워 넣기\n",
    "N = 6\n",
    "A = [1, 2, 3, 4, 5, 6]\n",
    "\n",
    "Plus, Minus, Multi, Div = [2, 1, 1, 1]\n",
    "max_num = -int(1e9)\n",
    "min_num = int(1e9)\n",
    "\n",
    "\n",
    "def func(idx, num):\n",
    "    global max_num, min_num, Plus, Minus, Multi, Div\n",
    "\n",
    "    if idx == N:\n",
    "        max_num = max(max_num, num)\n",
    "        min_num = min(min_num, num)\n",
    "    else:\n",
    "        if Plus > 0:\n",
    "            Plus -= 1\n",
    "            func(idx+1, num+A[idx])\n",
    "            Plus += 1\n",
    "            \n",
    "        if Minus > 0:\n",
    "            Minus -= 1\n",
    "            func(idx+1, num-A[idx])\n",
    "            Minus += 1\n",
    "\n",
    "        if Multi > 0:\n",
    "            Multi -= 1\n",
    "            func(idx+1, num*A[idx])\n",
    "            Multi += 1\n",
    "        if Div > 0:\n",
    "            Div -= 1\n",
    "            func(idx+1, int(num/A[idx]))\n",
    "            Div += 1\n",
    "\n",
    "\n",
    "func(1, A[0])\n",
    "print(max_num, min_num)"
   ]
  },
  {
   "cell_type": "code",
   "execution_count": 286,
   "metadata": {
    "ExecuteTime": {
     "end_time": "2020-10-28T07:39:16.557442Z",
     "start_time": "2020-10-28T07:39:06.676301Z"
    }
   },
   "outputs": [
    {
     "name": "stdout",
     "output_type": "stream",
     "text": [
      "4\n",
      "X X X X \n",
      "S S S S \n",
      "X X X X \n",
      "T T T X\n",
      "YES\n"
     ]
    }
   ],
   "source": [
    "# 감시 피하기\n",
    "import itertools\n",
    "\n",
    "N = int(input())\n",
    "\n",
    "graph=[]\n",
    "for i in range(N):\n",
    "    graph.append(list(input().split()))\n",
    "\n",
    "candidate = []\n",
    "teachers = []\n",
    "\n",
    "for i in range(N):\n",
    "    for j in range(N):\n",
    "\n",
    "        if graph[i][j] == \"X\":\n",
    "            candidate.append((i, j))\n",
    "        # 선생 위치\n",
    "        if graph[i][j] == 'T':\n",
    "            teachers.append((i, j))\n",
    "\n",
    "\n",
    "def watch(y, x):\n",
    "\n",
    "    # 동\n",
    "    t_y = y\n",
    "    t_x = x\n",
    "    while t_x < N:\n",
    "        if graph[t_y][t_x] == 'O':\n",
    "            break\n",
    "        elif graph[t_y][t_x] == 'S':\n",
    "            return True\n",
    "        t_x += 1\n",
    "\n",
    "    # 서\n",
    "    t_y = y\n",
    "    t_x = x\n",
    "    while t_x > -1:\n",
    "        if graph[t_y][t_x] == 'O':\n",
    "            break\n",
    "        elif graph[t_y][t_x] == 'S':\n",
    "            return True\n",
    "        t_x -= 1\n",
    "    # 남\n",
    "    t_y = y\n",
    "    t_x = x\n",
    "    while t_y < N:\n",
    "        if graph[t_y][t_x] == 'O':\n",
    "            break\n",
    "        elif graph[t_y][t_x] == 'S':\n",
    "            return True\n",
    "        t_y += 1\n",
    "    # 북\n",
    "    t_y = y\n",
    "    t_x = x\n",
    "    while t_y > -1:\n",
    "        if graph[t_y][t_x] == 'O':\n",
    "            break\n",
    "        elif graph[t_y][t_x] == 'S':\n",
    "            return True\n",
    "        t_y -= 1\n",
    "\n",
    "    return False\n",
    "\n",
    "\n",
    "def check(graph):\n",
    "    for y, x in teachers:\n",
    "        if watch(y, x):\n",
    "            \n",
    "            return False\n",
    "\n",
    "    return True\n",
    "\n",
    "\n",
    "# 벽 후보 생성\n",
    "candidates = itertools.permutations(candidate, 3)\n",
    "pos = False\n",
    "\n",
    "for candidate in candidates:\n",
    "    # 장애물 설치\n",
    "    for y, x in candidate:\n",
    "        graph[y][x] = 'O'\n",
    "\n",
    "    if check(graph):\n",
    "        pos = True\n",
    "        break\n",
    "\n",
    "    # 장애물 해체\n",
    "    for y, x in candidate:\n",
    "        graph[y][x] = 'X'\n",
    "\n",
    "if pos:\n",
    "    print('YES')\n",
    "else:\n",
    "    print('NO')"
   ]
  },
  {
   "cell_type": "code",
   "execution_count": 293,
   "metadata": {
    "ExecuteTime": {
     "end_time": "2020-10-28T08:02:07.212364Z",
     "start_time": "2020-10-28T08:02:07.194415Z"
    }
   },
   "outputs": [
    {
     "name": "stdout",
     "output_type": "stream",
     "text": [
      "2\n"
     ]
    }
   ],
   "source": [
    "# 인구 이동\n",
    "# 첫쨰줄 N,L,R\n",
    "\n",
    "N,L,R = 3 ,5 ,10\n",
    "\n",
    "graph = [[10,15,20],[20,30,25],[40,22,10]]\n",
    "\n",
    "dx = [-1,1,0,0]\n",
    "dy = [0,0,1,-1]\n",
    "\n",
    "result = 0\n",
    "# 특정 위치에서 출발하여 모든 연합을 체크한 뒤에 데이터 갱신\n",
    "def func(x,y,index):\n",
    "    # (y,x)의 위치와 연결된 나라(연합)의 정보를 담는 리스트\n",
    "    united = []\n",
    "    united.append((x,y))\n",
    "    \n",
    "    # BFS를 위한 큐 선언\n",
    "    q =deque()\n",
    "    q.append((x,y))\n",
    "    union[x][y] = index # 현재 연합의 번호 할당\n",
    "    summary = graph[x][y] #현재 연합의 전체 인구수\n",
    "    count = 1 # 현재 연합의 국가수\n",
    "    \n",
    "    while q:\n",
    "        x,y = q.popleft()\n",
    "        \n",
    "        for i in range(4):\n",
    "            nx = x+dx[i]\n",
    "            ny = y+dy[i]\n",
    "            \n",
    "            # 바로 옆에 있는 나라를 확인하며 \n",
    "            if 0 <= nx < N and 0 <=ny <N and union[nx][ny] ==-1:\n",
    "                # 옆에 있는 나라와 인구 차이가 L명이상, R명 이하라면\n",
    "                if L <=abs(graph[nx][ny] - graph[x][y]) <= R:\n",
    "                    q.append((nx,ny))\n",
    "                    #연합에 추가\n",
    "                    union[nx][ny] = index\n",
    "                    summary +=graph[nx][ny]\n",
    "                    count +=1\n",
    "                    united.append((nx,ny))\n",
    "        # 연합국가끼리 인구를 분해\n",
    "        \n",
    "    for i,j in united:\n",
    "        graph[i][j] = summary//count\n",
    "    return count\n",
    "\n",
    "total_count = 0\n",
    "\n",
    "while True:\n",
    "    union = [[-1]*N for _ in range(N)]\n",
    "    index = 0\n",
    "    for i in range(N):\n",
    "        for j in range(N):\n",
    "            if union[i][j] == -1 : # 해당 나라가 아직 처리되지 않았다면\n",
    "                func(i,j,index)\n",
    "                index+=1\n",
    "    # 모든 인구이동이 끝난 경우\n",
    "    if index ==N*N:\n",
    "        break\n",
    "    total_count +=1\n",
    "print(total_count)\n",
    "\n",
    "    \n",
    "    "
   ]
  },
  {
   "cell_type": "code",
   "execution_count": 12,
   "metadata": {
    "ExecuteTime": {
     "end_time": "2020-10-28T09:02:45.406646Z",
     "start_time": "2020-10-28T09:02:45.394654Z"
    }
   },
   "outputs": [
    {
     "data": {
      "text/plain": [
       "[7, 6, 5, 4, 3, 2, 1, 8]"
      ]
     },
     "execution_count": 12,
     "metadata": {},
     "output_type": "execute_result"
    }
   ],
   "source": [
    "# 실패율 \n",
    "\n",
    "import collections\n",
    "def solution(N, stages):\n",
    "    percent = []\n",
    "    for i in range(1,N+1):\n",
    "        n = 0\n",
    "        m = 0\n",
    "        for stage in stages:\n",
    "            if stage > i :\n",
    "                m+=1\n",
    "            elif stage == i :\n",
    "                n +=1\n",
    "        if (n+m)== 0 :\n",
    "            percent.append((i,0))\n",
    "        else:\n",
    "            percent.append((i,n/(n+m)))\n",
    "    percent.sort(key = lambda x : x[1],reverse =True)\n",
    "    \n",
    "    result = [x[0] for x in percent]\n",
    "    return result\n",
    "    \n",
    "solution(N=8 , stages=[1,2,3,4,5,6,7])\n",
    "            \n",
    "        "
   ]
  },
  {
   "cell_type": "code",
   "execution_count": 29,
   "metadata": {
    "ExecuteTime": {
     "end_time": "2020-10-28T09:13:45.305272Z",
     "start_time": "2020-10-28T09:13:42.473004Z"
    }
   },
   "outputs": [
    {
     "name": "stdout",
     "output_type": "stream",
     "text": [
      "3\n",
      "10\n",
      "20\n",
      "40\n",
      "100\n"
     ]
    }
   ],
   "source": [
    "# import heapq\n",
    "\n",
    "# 카드 정렬하기\n",
    "N = int(input())\n",
    "\n",
    "Q = []\n",
    "\n",
    "for i in range(N):\n",
    "    num = int(input())\n",
    "    heapq.heappush(Q, num)\n",
    "\n",
    "result = 0\n",
    "\n",
    "while len(Q) > 1:\n",
    "    first = heapq.heappop(Q)\n",
    "    second = heapq.heappop(Q)\n",
    "    result += first + second\n",
    "\n",
    "    heapq.heappush(Q, first + second)\n",
    "\n",
    "print(result)"
   ]
  },
  {
   "cell_type": "code",
   "execution_count": 12,
   "metadata": {
    "ExecuteTime": {
     "end_time": "2020-10-28T11:24:07.472284Z",
     "start_time": "2020-10-28T11:24:07.452298Z"
    }
   },
   "outputs": [
    {
     "data": {
      "text/plain": [
       "[[1, 0, 0],\n",
       " [1, 1, 1],\n",
       " [2, 1, 0],\n",
       " [2, 2, 1],\n",
       " [5, 0, 0],\n",
       " [5, 1, 0],\n",
       " [4, 2, 1],\n",
       " [3, 2, 1]]"
      ]
     },
     "execution_count": 12,
     "metadata": {},
     "output_type": "execute_result"
    }
   ],
   "source": [
    "# 기둥과 보 설치\n",
    "# 기둥은 바닥 위에 있거나 보의 한쪽 끝 부분 위에 있거나, 또는 다른 기둥 위에 있어야함.\n",
    "# 보는 한쪽 끝부분이 기둥 위에 있거나, 또는 양 쪽 끝 부분이 다른 보와 동시에 연결 되어 있어야함\n",
    "# 설치나 삭제시 조건에 맞지 않으면 무시.\n",
    "# [x,y,a,b] : x,y 는 좌표 a : 0 기둥 1 보 b 0 삭제 b 1 설치\n",
    "\n",
    "\n",
    "def check(result):\n",
    "    for x, y, a in result:\n",
    "        # 기둥\n",
    "        if a == 0:\n",
    "            if y == 0 or [x - 1, y, 1] in result or [x, y, 1] in result or [\n",
    "                    x, y - 1, 0\n",
    "            ] in result:\n",
    "                continue\n",
    "            else:\n",
    "                return False\n",
    "        # 보\n",
    "        elif a == 1:\n",
    "            if [x, y - 1, 0] in result or [x + 1, y - 1, 0] in result or (\n",
    "                [x - 1, y, 1] in result and [x + 1, y, 1] in result):\n",
    "                continue\n",
    "            else:\n",
    "                return False\n",
    "\n",
    "    return True\n",
    "\n",
    "\n",
    "def solution(n, build_frame):\n",
    "    result = []\n",
    "\n",
    "    for x, y, a, b in build_frame:\n",
    "\n",
    "        # 삭제\n",
    "        if b == 0:\n",
    "            result.remove([x, y, a])\n",
    "            if check(result):\n",
    "                continue\n",
    "            result.append([x, y, a])\n",
    "\n",
    "        # 설치\n",
    "        else:\n",
    "            result.append([x, y, a])\n",
    "            if not check(result):\n",
    "                print([x, y, a])\n",
    "                result.remove([x, y, a])\n",
    "\n",
    "    return result\n",
    "\n",
    "\n",
    "solution(5, [[1, 0, 0, 1], [1, 1, 1, 1], [2, 1, 0, 1], [2, 2, 1, 1],\n",
    "             [5, 0, 0, 1], [5, 1, 0, 1], [4, 2, 1, 1], [3, 2, 1, 1]])"
   ]
  },
  {
   "cell_type": "code",
   "execution_count": null,
   "metadata": {},
   "outputs": [],
   "source": [
    "입력값 〉\t5, [[1, 0, 0, 1], [1, 1, 1, 1], [2, 1, 0, 1], [2, 2, 1, 1], [5, 0, 0, 1], [5, 1, 0, 1], [4, 2, 1, 1], [3, 2, 1, 1]]\n",
    "기댓값 〉\t[[1, 0, 0], [1, 1, 1], [2, 1, 0], [2, 2, 1], [3, 2, 1], [4, 2, 1], [5, 0, 0], [5, 1, 0]]"
   ]
  },
  {
   "cell_type": "code",
   "execution_count": 1,
   "metadata": {
    "ExecuteTime": {
     "end_time": "2020-10-28T11:02:22.596601Z",
     "start_time": "2020-10-28T11:02:22.584616Z"
    }
   },
   "outputs": [
    {
     "data": {
      "text/plain": [
       "[[2, 3]]"
      ]
     },
     "execution_count": 1,
     "metadata": {},
     "output_type": "execute_result"
    }
   ],
   "source": [
    "a =[[1,2],[2,3]]\n",
    "\n",
    "a.remove([1,2])\n",
    "a"
   ]
  }
 ],
 "metadata": {
  "kernelspec": {
   "display_name": "Python 3",
   "language": "python",
   "name": "python3"
  },
  "language_info": {
   "codemirror_mode": {
    "name": "ipython",
    "version": 3
   },
   "file_extension": ".py",
   "mimetype": "text/x-python",
   "name": "python",
   "nbconvert_exporter": "python",
   "pygments_lexer": "ipython3",
   "version": "3.7.6"
  },
  "toc": {
   "base_numbering": 1,
   "nav_menu": {},
   "number_sections": true,
   "sideBar": true,
   "skip_h1_title": false,
   "title_cell": "Table of Contents",
   "title_sidebar": "Contents",
   "toc_cell": false,
   "toc_position": {},
   "toc_section_display": true,
   "toc_window_display": false
  }
 },
 "nbformat": 4,
 "nbformat_minor": 2
}
