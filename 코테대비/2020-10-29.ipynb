{
 "cells": [
  {
   "cell_type": "code",
   "execution_count": 1,
   "metadata": {
    "ExecuteTime": {
     "end_time": "2020-10-29T04:40:24.457895Z",
     "start_time": "2020-10-29T04:40:24.440941Z"
    }
   },
   "outputs": [
    {
     "name": "stdout",
     "output_type": "stream",
     "text": [
      "4\n"
     ]
    }
   ],
   "source": [
    "# 정렬된 배열에서 특정 수의 개수 구하기\n",
    "#  N개의 원소를 포함하는 수열 오름차순 정렬\n",
    "# 이때 x가 등장하는 횟수 계산\n",
    "import bisect\n",
    "\n",
    "a = [1,1,2,2,2,2,3]\n",
    "x= 2\n",
    "idx = bisect.bisect_left(a,2)\n",
    "\n",
    "if idx < len(a) and a[idx] == x:\n",
    "    print(bisect.bisect_right(a,2)-bisect.bisect_left(a,2))\n",
    "else:\n",
    "    print(-1)\n",
    "\n",
    "\n"
   ]
  },
  {
   "cell_type": "code",
   "execution_count": 2,
   "metadata": {
    "ExecuteTime": {
     "end_time": "2020-10-29T04:40:24.496794Z",
     "start_time": "2020-10-29T04:40:24.464878Z"
    }
   },
   "outputs": [
    {
     "name": "stdout",
     "output_type": "stream",
     "text": [
      "-1\n"
     ]
    }
   ],
   "source": [
    "# 고정점 찾기\n",
    "# 고정점 : 수열의 원소 중에서 그 값이 인덱스와 동일 한 원소 .\n",
    "\n",
    "n = 7\n",
    "arr = [-15, -4, 3, 8, 9, 13, 15]\n",
    "\n",
    "\n",
    "def binary_search():\n",
    "    left, right = 0, len(a)\n",
    "    while left <= right:\n",
    "        mid = (left+right)//2\n",
    "\n",
    "        # 고정점\n",
    "        if arr[mid] == mid:\n",
    "\n",
    "            \n",
    "            return mid\n",
    "\n",
    "        elif arr[mid] < mid:\n",
    "            left = mid + 1\n",
    "        else:\n",
    "            right = mid - 1\n",
    "\n",
    "\n",
    "result = binary_search()\n",
    "if not result:\n",
    "    print(-1)\n",
    "else:\n",
    "    print(result)"
   ]
  },
  {
   "cell_type": "code",
   "execution_count": 3,
   "metadata": {
    "ExecuteTime": {
     "end_time": "2020-10-29T04:40:27.694826Z",
     "start_time": "2020-10-29T04:40:24.499785Z"
    }
   },
   "outputs": [
    {
     "name": "stdout",
     "output_type": "stream",
     "text": [
      "1\n"
     ]
    },
    {
     "ename": "ValueError",
     "evalue": "not enough values to unpack (expected 2, got 1)",
     "output_type": "error",
     "traceback": [
      "\u001b[1;31m---------------------------------------------------------------------------\u001b[0m",
      "\u001b[1;31mValueError\u001b[0m                                Traceback (most recent call last)",
      "\u001b[1;32m<ipython-input-3-7f545bf9bd0c>\u001b[0m in \u001b[0;36m<module>\u001b[1;34m\u001b[0m\n\u001b[0;32m      5\u001b[0m \u001b[1;31m# high = max(a)\u001b[0m\u001b[1;33m\u001b[0m\u001b[1;33m\u001b[0m\u001b[1;33m\u001b[0m\u001b[0m\n\u001b[0;32m      6\u001b[0m \u001b[1;33m\u001b[0m\u001b[0m\n\u001b[1;32m----> 7\u001b[1;33m \u001b[0mN\u001b[0m\u001b[1;33m,\u001b[0m \u001b[0mC\u001b[0m \u001b[1;33m=\u001b[0m \u001b[0mmap\u001b[0m\u001b[1;33m(\u001b[0m\u001b[0mint\u001b[0m\u001b[1;33m,\u001b[0m \u001b[0minput\u001b[0m\u001b[1;33m(\u001b[0m\u001b[1;33m)\u001b[0m\u001b[1;33m.\u001b[0m\u001b[0msplit\u001b[0m\u001b[1;33m(\u001b[0m\u001b[1;33m)\u001b[0m\u001b[1;33m)\u001b[0m\u001b[1;33m\u001b[0m\u001b[1;33m\u001b[0m\u001b[0m\n\u001b[0m\u001b[0;32m      8\u001b[0m \u001b[0ma\u001b[0m \u001b[1;33m=\u001b[0m \u001b[1;33m[\u001b[0m\u001b[1;33m]\u001b[0m\u001b[1;33m\u001b[0m\u001b[1;33m\u001b[0m\u001b[0m\n\u001b[0;32m      9\u001b[0m \u001b[1;32mfor\u001b[0m \u001b[0m_\u001b[0m \u001b[1;32min\u001b[0m \u001b[0mrange\u001b[0m\u001b[1;33m(\u001b[0m\u001b[0mN\u001b[0m\u001b[1;33m)\u001b[0m\u001b[1;33m:\u001b[0m\u001b[1;33m\u001b[0m\u001b[1;33m\u001b[0m\u001b[0m\n",
      "\u001b[1;31mValueError\u001b[0m: not enough values to unpack (expected 2, got 1)"
     ]
    }
   ],
   "source": [
    "# 공유기 설치\n",
    "# C 개의 공유기를 N 개의 집에 적당히 설치해서, 가장 인접한 두 고융기 사이의 거리를 최대로\n",
    "# 이진검색으로 가장 긴 거리 를 구하는 걸로해\n",
    "# low = min (a)\n",
    "# high = max(a)\n",
    "\n",
    "N, C = map(int, input().split())\n",
    "a = []\n",
    "for _ in range(N):\n",
    "    a.append(int(input()))\n",
    "\n",
    "\n",
    "a.sort()\n",
    "\n",
    "\n",
    "def binary_search():\n",
    "    low = a[1] - a[0]\n",
    "    high = a[-1] - a[0]\n",
    "    result = 0\n",
    "    while low <= high:\n",
    "        mid = (low+high)//2\n",
    "\n",
    "        cnt = 1  # 공유기 설치 대수\n",
    "        value = a[0]\n",
    "        for i in range(0, len(a)):\n",
    "            if a[i] >= value+mid:\n",
    "                value = a[i]\n",
    "                cnt+=1\n",
    "                       \n",
    "\n",
    "        # 공유기가 덜 설치됨 -> 거리를 줄여야 됨\n",
    "        if cnt < C:\n",
    "            high = mid - 1\n",
    "\n",
    "        else:\n",
    "            result = mid\n",
    "            low = mid + 1\n",
    "\n",
    "    return result\n",
    "\n",
    "\n",
    "print(binary_search())"
   ]
  },
  {
   "cell_type": "code",
   "execution_count": null,
   "metadata": {
    "ExecuteTime": {
     "end_time": "2020-10-29T04:40:27.698817Z",
     "start_time": "2020-10-29T04:40:24.406Z"
    }
   },
   "outputs": [],
   "source": [
    "# 가사 검색\n",
    "\n",
    "import bisect\n",
    "import collections\n",
    "\n",
    "def func(a,left,right):\n",
    "    left_idx = bisect.bisect_left(a,left)\n",
    "    right_idx = bisect.bisect_right(a,right)\n",
    "    \n",
    "    return right_idx - left_idx\n",
    "\n",
    "def solution(words, queries):\n",
    "    answer = []\n",
    "    \n",
    "    dic = collections.defaultdict(list)\n",
    "    dic_reverse = collections.defaultdict(list)\n",
    "    for word in words:\n",
    "        # 단어 길이 순으로 분리\n",
    "        dic[len(word)].append(word)\n",
    "        dic_reverse[len(word)].append(word[::-1])\n",
    "    \n",
    "    \n",
    "    #정렬\n",
    "    for key in dic.keys():\n",
    "        dic[key].sort()\n",
    "        dic_reverse[key].sort()\n",
    "    \n",
    "    for query in queries: # 쿼리를 하나씩 확인하며 처리\n",
    "        #접미사에 와일드 카드가 붙은 경우\n",
    "        if query[0] != '?':\n",
    "            answer.append(func(dic[len(query)],query.replace('?','a'),query.replace('?','z')))\n",
    "            \n",
    "        #접두사에 와일드 카드가 붙은 경우\n",
    "        else :\n",
    "            query = query[::-1]\n",
    "            answer.append(func(dic_reverse[len(query)],query.replace('?','a'),query.replace('?','z')))\n",
    "    return answer\n",
    "\n",
    "\n",
    "solution([\"frodo\", \"front\", \"frost\", \"frozen\", \"frame\", \"kakao\"], [\"fro??\", \"????o\", \"fr???\", \"fro???\", \"pro?\"])\n"
   ]
  },
  {
   "cell_type": "code",
   "execution_count": null,
   "metadata": {
    "ExecuteTime": {
     "end_time": "2020-10-29T04:40:27.700811Z",
     "start_time": "2020-10-29T04:40:24.409Z"
    }
   },
   "outputs": [],
   "source": [
    "# 금광\n",
    "# 첫번 쨰 열 부터 출발하여 금을 캔다.\n",
    "# m번에 걸쳐서 매번 오른쪽위 , 오른쪽, 오른쪽 아래 3가지중 하나의 위치로 이동\n",
    "# 결과적으로 채굴자가 얻을수 있는 금의 최대 크기\n",
    "\n",
    "N, M = 4,4\n",
    "golds = [[1, 3, 1, 5],[2,2,4,1],[5,0,2,3],[0,6,1,2]]\n",
    "dp = [[x for x in y]for y in golds]\n",
    "print(dp)\n",
    "for j in range(1, M):\n",
    "    for i in range(N):\n",
    "        if i == 0:\n",
    "            dp[i][j] = dp[i][j] + max(dp[i+1][j-1], dp[i][j-1])\n",
    "        elif i == N-1:\n",
    "            dp[i][j] = dp[i][j] + max(dp[i-1][j-1], dp[i][j-1])\n",
    "        else:\n",
    "            dp[i][j] = dp[i][j] + max(dp[i-1][j-1], dp[i+1][j-1], dp[i][j-1])\n",
    "    \n",
    "result = 0\n",
    "for i in range(N):\n",
    "    result = max(result,dp[i][M-1])\n",
    "    \n",
    "print(result)"
   ]
  },
  {
   "cell_type": "code",
   "execution_count": null,
   "metadata": {
    "ExecuteTime": {
     "end_time": "2020-10-29T04:40:27.703802Z",
     "start_time": "2020-10-29T04:40:24.413Z"
    }
   },
   "outputs": [],
   "source": [
    "# 맨왼쪽은 위에서만\n",
    "# 맨 오른쪽은 왼쪽 위에서만\n",
    "# 나머지는 바로 위나 왼쪽 위에서만\n",
    "\n",
    "def solution(triangle):\n",
    "    answer = 0\n",
    "    \n",
    "    for i in range(len(triangle)):\n",
    "        for j in  range(len(triangle[i])):\n",
    "            if len(triangle[i]) == 1:\n",
    "                continue\n",
    "            \n",
    "            if j == 0: \n",
    "                triangle[i][j] += triangle[i-1][j]\n",
    "            elif j == len(triangle[i])-1:\n",
    "                triangle[i][j] += triangle[i-1][j-1]\n",
    "            else :\n",
    "                \n",
    "                triangle[i][j] += max(triangle[i-1][j],triangle[i-1][j-1])\n",
    "    \n",
    "    return max(triangle[i])\n",
    "    \n",
    "    \n",
    "solution([[7], [3, 8], [8, 1, 0], [2, 7, 4, 4], [4, 5, 2, 6, 5]])"
   ]
  },
  {
   "cell_type": "code",
   "execution_count": null,
   "metadata": {
    "ExecuteTime": {
     "end_time": "2020-10-29T04:40:27.706796Z",
     "start_time": "2020-10-29T04:40:24.415Z"
    }
   },
   "outputs": [],
   "source": [
    "# 퇴사\n",
    "\n",
    "n = int(input())\n",
    "t=  [] # 각 상담을 완료하는 데 걸리는 시간\n",
    "p =  [] # 각 상담을 완료했을 때 받을 수 있는 금액\n",
    "dp = [0] *(n+1) # 다이나믹 프로그래밍을 위한 1차원 dp 테이블 초기화\n",
    "max_value = 0\n",
    "\n",
    "for _ in range(n):\n",
    "    x,y = map(int, input().split())\n",
    "    t.append(x)\n",
    "    p.append(y)\n",
    "    \n",
    "# 리스트를 뒤에서 부터 거꾸로 확인\n",
    "for i in range(n-1,-1,-1):\n",
    "    time = t[i] +i\n",
    "    # 상담이 기간안에 끝나는 경우\n",
    "    if time <=n:\n",
    "        # 점화식에 맞게, 현재까지의 최고 이익 계산\n",
    "        dp[i] = max(p[i] + dp[time],max_value)\n",
    "        max_value = dp[i]\n",
    "    # 상담이 기간을 벗어나는 겨웅\n",
    "    else :\n",
    "        dp[i] = max_value\n",
    "    print(dp)\n",
    "print(max_value)"
   ]
  },
  {
   "cell_type": "code",
   "execution_count": null,
   "metadata": {
    "ExecuteTime": {
     "end_time": "2020-10-29T04:40:27.708790Z",
     "start_time": "2020-10-29T04:40:24.419Z"
    }
   },
   "outputs": [],
   "source": [
    "# 병사 배치하기\n",
    "\n",
    "N = 7\n",
    "soldier = [15,11,4,8,5,2,4]\n",
    "\n",
    "soldier.reverse()\n",
    "\n",
    "# 다이나믹 프로그래밍을 위한 1차원 dp 테이블 초기화\n",
    "\n",
    "dp = [1] * n\n",
    "\n",
    "# 가장 긴 증가하는 부분순열 알고리즘 수행\n",
    "for i in range(1,n):\n",
    "    for j in range(0,i):\n",
    "        if soldier[j] < soldier[i]:\n",
    "            dp[i] = max(dp[i],dp[j]+1)\n",
    "\n",
    "print(dp)\n",
    "print(N-max(dp))\n",
    "\n"
   ]
  },
  {
   "cell_type": "code",
   "execution_count": 18,
   "metadata": {
    "ExecuteTime": {
     "end_time": "2020-10-29T04:44:53.142456Z",
     "start_time": "2020-10-29T04:44:49.704870Z"
    }
   },
   "outputs": [
    {
     "name": "stdout",
     "output_type": "stream",
     "text": [
      "30\n",
      "80\n",
      "[0, 1, 1, 1, 1, 1, 1, 0, 1, 1, 1, 0, 1, 0, 0, 1, 1, 0, 1, 0, 1, 0, 0, 0, 1, 1, 0, 1, 0, 0]\n"
     ]
    }
   ],
   "source": [
    "n = int(input())\n",
    "\n",
    "dp= [0] * 10001 \n",
    "\n",
    "cnt = 1\n",
    "num = 1\n",
    "dp[num] = 1\n",
    "while True:\n",
    "    num+=1\n",
    "    if cnt  == n :\n",
    "        print(num-1)\n",
    "        break\n",
    "    if num%2 ==0 and dp[num//2] == 1:\n",
    "        dp[num] = 1\n",
    "        cnt +=1\n",
    "        continue\n",
    "    elif  num%3 ==0 and dp[num//3] == 1:\n",
    "        dp[num] = 1\n",
    "        cnt +=1\n",
    "        continue\n",
    "    \n",
    "    elif num% 5 ==0 and dp[num//5] ==1:\n",
    "        dp[num] = 1\n",
    "        cnt +=1\n",
    "        continue\n",
    "        \n",
    "        \n",
    "    \n",
    "    \n",
    "print(dp[:30])\n",
    "    \n"
   ]
  },
  {
   "cell_type": "code",
   "execution_count": null,
   "metadata": {},
   "outputs": [],
   "source": [
    "## 플로이드 \n",
    "\n",
    "N = int(input())\n",
    "M = int(input())\n",
    "graph = [[1e9]*N for _ in range(N)]\n",
    "\n",
    "for i in range(M):\n",
    "    u,v,w = map(int,input().split())\n",
    "    if graph[u-1][v-1] > w :\n",
    "        graph[u-1][v-1] = w\n",
    "    \n",
    "for k in range(N):\n",
    "    for i in range(N):\n",
    "        for j in range(N):\n",
    "            if i==j :\n",
    "                graph[i][j] = 0\n",
    "            else:\n",
    "                graph[i][j] = min(graph[i][j],graph[i][k]+graph[k][j])\n",
    "\n",
    "            \n",
    "            \n",
    "for i in range(N):\n",
    "    for j in range(N):\n",
    "        print(graph[i][j],end=' ')\n",
    "    print('')"
   ]
  },
  {
   "cell_type": "code",
   "execution_count": 19,
   "metadata": {
    "ExecuteTime": {
     "end_time": "2020-10-29T05:44:26.813442Z",
     "start_time": "2020-10-29T05:44:26.789536Z"
    }
   },
   "outputs": [
    {
     "name": "stdout",
     "output_type": "stream",
     "text": [
      "1\n"
     ]
    }
   ],
   "source": [
    "N, M = 6, 6\n",
    "nodes = [[1, 5], [3, 4], [4, 2], [4, 6], [5, 2], [5, 4]]\n",
    "\n",
    "INF = int(1e9)\n",
    "graph = [[int(1e9)] * N for _ in range(N)]\n",
    "\n",
    "for u, v in nodes:\n",
    "    graph[u-1][v-1] = 1\n",
    "\n",
    "\n",
    "\n",
    "for k in range(N):\n",
    "    for i in range(N):\n",
    "        for j in range(N):\n",
    "            if i==j :\n",
    "                graph[i][j] = 0\n",
    "            else:\n",
    "                graph[i][j] = min(graph[i][j],graph[i][k]+graph[k][j])\n",
    "\n",
    "result=0\n",
    "for i in range(N):\n",
    "    count = 0 \n",
    "    for j in range(N):\n",
    "        if graph[i][j] != INF or graph[j][i]  != INF:\n",
    "            count +=1\n",
    "        if count == N:\n",
    "            result +=1\n",
    "print(result)"
   ]
  },
  {
   "cell_type": "code",
   "execution_count": 39,
   "metadata": {
    "ExecuteTime": {
     "end_time": "2020-10-29T06:08:22.265263Z",
     "start_time": "2020-10-29T06:08:22.245906Z"
    },
    "scrolled": true
   },
   "outputs": [
    {
     "name": "stdout",
     "output_type": "stream",
     "text": [
      "36\n"
     ]
    }
   ],
   "source": [
    "# 화성 탐사\n",
    "import heapq\n",
    "\n",
    "INF = int(1e9)\n",
    "N = 7\n",
    "graph = [[9,0,5,1,1,5,3],[4,1,2,1,6,5,3],[0,7,6,1,6,8,5],[1,1,7,8,3,2,3],[9,4,0,7,6,4,1],[5,8,3,2,4,8,3],[7,4,8,4,8,3,4]]\n",
    "\n",
    "dist = [[INF]*N for _ in range(N)]\n",
    "dy = [1, -1, 0, 0]\n",
    "dx = [0, 0, 1, -1]\n",
    "Q = [(graph[0][0], 0, 0)]\n",
    "\n",
    "\n",
    "result = 0\n",
    "\n",
    "while Q:\n",
    "    w, y, x = heapq.heappop(Q)\n",
    "\n",
    "    if y == N-1 and x == N-1:\n",
    "        break\n",
    "    for i in range(4):\n",
    "        nx = x + dx[i]\n",
    "        ny = y + dy[i]\n",
    "\n",
    "        if nx > -1 and ny > -1 and nx < N and ny < N:\n",
    "            if dist[ny][nx] == INF:\n",
    "                heapq.heappush(Q, (graph[ny][nx]+w, ny, nx))\n",
    "                dist[ny][nx] = graph[ny][nx]+w\n",
    "\n",
    "\n",
    "print(dist[N-1][N-1])"
   ]
  },
  {
   "cell_type": "code",
   "execution_count": 67,
   "metadata": {
    "ExecuteTime": {
     "end_time": "2020-10-29T06:39:21.237470Z",
     "start_time": "2020-10-29T06:39:21.211465Z"
    }
   },
   "outputs": [
    {
     "name": "stdout",
     "output_type": "stream",
     "text": [
      "[4, 2, 3]\n"
     ]
    }
   ],
   "source": [
    "# 숨바 꼭질\n",
    "import collections\n",
    "import heapq\n",
    "\n",
    "N, M = 6, 7\n",
    "\n",
    "graph = collections.defaultdict(list)\n",
    "nodes = [[3, 6], [4, 3], [3, 2], [1, 3], [1, 2], [2, 4], [5, 2]]\n",
    "\n",
    "for u, v in nodes:\n",
    "    graph[u].append((v, 1))\n",
    "    graph[v].append((u,1))\n",
    "\n",
    "dist = collections.defaultdict(int)\n",
    "Q = [(0, 1)]\n",
    "max_time= 0\n",
    "\n",
    "dist[1] = 0\n",
    "\n",
    "while Q:\n",
    "    time, node = heapq.heappop(Q)\n",
    "\n",
    "    if not dist[node]:\n",
    "        dist[node] = time\n",
    "        \n",
    "        max_time = max(max_time, time)\n",
    "        for v, w in graph[node]:\n",
    "            heapq.heappush(Q, (w+time, v))\n",
    "\n",
    "result = []\n",
    "\n",
    "\n",
    "for key in dist.keys():\n",
    "    if key == 1 :\n",
    "        continue\n",
    "    if dist[key] == max_time:\n",
    "        result.append(key)\n",
    "        result.append(max_time)\n",
    "        break\n",
    "\n",
    "cnt = 0\n",
    "\n",
    "for key in dist.keys():\n",
    "    if key ==1:\n",
    "        continue\n",
    "    if dist[key] == max_time:        \n",
    "        cnt += 1\n",
    "result.append(cnt)\n",
    "\n",
    "print(result)"
   ]
  },
  {
   "cell_type": "code",
   "execution_count": 78,
   "metadata": {
    "ExecuteTime": {
     "end_time": "2020-10-29T07:03:10.848001Z",
     "start_time": "2020-10-29T07:03:10.824065Z"
    }
   },
   "outputs": [
    {
     "name": "stdout",
     "output_type": "stream",
     "text": [
      "NO\n"
     ]
    }
   ],
   "source": [
    "def find_parent(parent,x):\n",
    "    if parent[x] != x :\n",
    "        parent[x] =find_parent(parent,parent[x])\n",
    "    return parent[x]\n",
    "\n",
    "\n",
    "def union_parent(parent,a,b):\n",
    "    a= find_parent(parent,a)\n",
    "    b = find_parent(parent,b)\n",
    "    \n",
    "    if a < b:\n",
    "        parent[b] = a\n",
    "    else :\n",
    "        parent[a] = b\n",
    "        \n",
    "N,M = 5,4\n",
    "\n",
    "graph = [[0,1,0,1,0],[1,0,1,1,0],[0,1,0,0,0],[1,1,0,0,0],[0,0,0,0,0]]\n",
    "tours = [2,3,4,3,5]\n",
    "\n",
    "\n",
    "parent = [0] * (N+1)\n",
    "\n",
    "for i in range(1,N+1):\n",
    "    parent[i] = i\n",
    "\n",
    "for i in range(N):\n",
    "    for j in range(N):\n",
    "        # 길이있으면 연결\n",
    "        \n",
    "        if graph[i][j] == 1:\n",
    "            union_parent(parent,i+1,j+1)\n",
    "\n",
    "team = find_parent(parent,tours[0])\n",
    "\n",
    "\n",
    "pos = True\n",
    "\n",
    "for tour in set(tours):\n",
    "    tour_team = find_parent(parent,tour)\n",
    "    if tour_team != team:\n",
    "        pos = False\n",
    "    \n",
    "        \n",
    "if pos :\n",
    "    print('YES')\n",
    "else : \n",
    "    print(\"NO\")\n"
   ]
  },
  {
   "cell_type": "code",
   "execution_count": 85,
   "metadata": {
    "ExecuteTime": {
     "end_time": "2020-10-29T07:22:28.910756Z",
     "start_time": "2020-10-29T07:22:26.138170Z"
    }
   },
   "outputs": [
    {
     "name": "stdout",
     "output_type": "stream",
     "text": [
      "4\n",
      "6\n",
      "2\n",
      "2\n",
      "3\n",
      "3\n",
      "result:  3\n"
     ]
    }
   ],
   "source": [
    "def find_parent(parent,x):\n",
    "    if parent[x] != x :\n",
    "        parent[x] =find_parent(parent,parent[x])\n",
    "    return parent[x]\n",
    "\n",
    "\n",
    "def union_parent(parent,a,b):\n",
    "    a= find_parent(parent,a)\n",
    "    b = find_parent(parent,b)\n",
    "    \n",
    "    if a < b:\n",
    "        parent[b] = a\n",
    "    else :\n",
    "        parent[a] = b\n",
    "        \n",
    "g= int(input())\n",
    "p = int(input())\n",
    "\n",
    "parent = [0] *(g+1)\n",
    "\n",
    "for i in range(1,g+1):\n",
    "    parent[i] = i\n",
    "    \n",
    "result = 0\n",
    "\n",
    "for _ in range(p):\n",
    "    data = find_parent(parent,int(input()))\n",
    "    if data ==0:\n",
    "        break\n",
    "    union_parent(parent,data,data-1)\n",
    "    result +=1\n",
    "print('result: ', result)"
   ]
  },
  {
   "cell_type": "code",
   "execution_count": 87,
   "metadata": {
    "ExecuteTime": {
     "end_time": "2020-10-29T07:33:18.953587Z",
     "start_time": "2020-10-29T07:33:18.935635Z"
    }
   },
   "outputs": [
    {
     "name": "stdout",
     "output_type": "stream",
     "text": [
      "51\n"
     ]
    }
   ],
   "source": [
    "# 어두운길\n",
    "\n",
    "N,M = 7,11\n",
    "nodes = [[0,1,7],[0,3,5],[1,2,8],[1,3,9],[1,4,7],[2,4,5],[3,4,15],[3,5,6],[4,5,8],[4,6,9],[5,6,11]]\n",
    "\n",
    "nodes.sort(key = lambda x : x[2])\n",
    "\n",
    "\n",
    "def find_parent(parent,x):\n",
    "    if parent[x] != x :\n",
    "        parent[x] =find_parent(parent,parent[x])\n",
    "    return parent[x]\n",
    "\n",
    "\n",
    "def union_parent(parent,a,b):\n",
    "    a= find_parent(parent,a)\n",
    "    b = find_parent(parent,b)\n",
    "    \n",
    "    if a < b:\n",
    "        parent[b] = a\n",
    "    else :\n",
    "        parent[a] = b\n",
    "        \n",
    "\n",
    "parent = [0] *(N+1)\n",
    "\n",
    "for i in range(1,N+1):\n",
    "    parent[i] = i\n",
    "    \n",
    "save_money = 0\n",
    "for u,v,w in nodes:\n",
    "    # 연결이 안되어 있다. -> 연결\n",
    "    if find_parent(parent,u) != find_parent(parent,v):\n",
    "        union_parent(parent,u,v)\n",
    "    else :\n",
    "        save_money +=w\n",
    "print(save_money)\n",
    "    \n",
    "        \n",
    "        "
   ]
  },
  {
   "cell_type": "code",
   "execution_count": 97,
   "metadata": {
    "ExecuteTime": {
     "end_time": "2020-10-29T07:52:56.540121Z",
     "start_time": "2020-10-29T07:52:56.522168Z"
    }
   },
   "outputs": [
    {
     "name": "stdout",
     "output_type": "stream",
     "text": [
      "[(0, 2, 1), (0, 5, 4), (1, 1, 4), (1, 4, 2), (3, 2, 1), (3, 3, 5), (4, 4, 3), (5, 5, 2), (10, 2, 1), (10, 3, 2), (11, 4, 3), (20, 5, 4)]\n",
      "4\n"
     ]
    }
   ],
   "source": [
    "# 행성 터널\n",
    "\n",
    "N = int(input())\n",
    "\n",
    "points = [[11, -15, -15], [14, -5, -15],\n",
    "          [-1, -1, -5], [10, -4, -1], [19, -4, 19]]\n",
    "\n",
    "\n",
    "def find_parent(parent, x):\n",
    "    if parent[x] != x:\n",
    "        parent[x] = find_parent(parent, parent[x])\n",
    "    return parent[x]\n",
    "\n",
    "\n",
    "def union_parent(parent, a, b):\n",
    "    a = find_parent(parent, a)\n",
    "    b = find_parent(parent, b)\n",
    "\n",
    "    if a < b:\n",
    "        parent[b] = a\n",
    "    else:\n",
    "        parent[a] = b\n",
    "\n",
    "\n",
    "parent = [0] * (N+1)\n",
    "\n",
    "for i in range(1, N+1):\n",
    "    parent[i] = i\n",
    "\n",
    "x = []\n",
    "y = []\n",
    "z = []\n",
    "i = 1\n",
    "for a, b, c, in points:\n",
    "\n",
    "    x.append((a, i))\n",
    "    y.append((b, i))\n",
    "    z.append((c, i))\n",
    "    i += 1\n",
    "\n",
    "x.sort()\n",
    "y.sort()\n",
    "z.sort()\n",
    "\n",
    "edges = []\n",
    "\n",
    "for i in range(N-1):\n",
    "    edges.append((x[i+1][0] - x[i][0], x[i+1][1], x[i][1]))\n",
    "    edges.append((y[i+1][0] - y[i][0], y[i+1][1], y[i][1]))\n",
    "    edges.append((z[i+1][0] - z[i][0], z[i+1][1], z[i][1]))\n",
    "\n",
    "edges.sort()\n",
    "print(edges)\n",
    "result = 0\n",
    "for cost,a,b in edges:\n",
    "    \n",
    "    if find_parent(parent, a) == find_parent(parent,b):\n",
    "        continue\n",
    "    else:\n",
    "        union_parent(parent,a,b)\n",
    "        result += cost\n",
    "\n",
    "print(result)"
   ]
  }
 ],
 "metadata": {
  "kernelspec": {
   "display_name": "Python 3",
   "language": "python",
   "name": "python3"
  },
  "language_info": {
   "codemirror_mode": {
    "name": "ipython",
    "version": 3
   },
   "file_extension": ".py",
   "mimetype": "text/x-python",
   "name": "python",
   "nbconvert_exporter": "python",
   "pygments_lexer": "ipython3",
   "version": "3.7.6"
  },
  "toc": {
   "base_numbering": 1,
   "nav_menu": {},
   "number_sections": true,
   "sideBar": true,
   "skip_h1_title": false,
   "title_cell": "Table of Contents",
   "title_sidebar": "Contents",
   "toc_cell": false,
   "toc_position": {},
   "toc_section_display": true,
   "toc_window_display": false
  }
 },
 "nbformat": 4,
 "nbformat_minor": 2
}
