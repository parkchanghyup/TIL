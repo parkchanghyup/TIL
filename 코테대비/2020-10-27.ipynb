{
 "cells": [
  {
   "cell_type": "code",
   "execution_count": 3,
   "metadata": {
    "ExecuteTime": {
     "end_time": "2020-10-27T00:32:21.515362Z",
     "start_time": "2020-10-27T00:32:21.503625Z"
    }
   },
   "outputs": [
    {
     "name": "stdout",
     "output_type": "stream",
     "text": [
      "3 4\n"
     ]
    }
   ],
   "source": [
    "# 상하 좌우\n",
    "N = 6\n",
    "move = ['R', 'R', 'R', 'U', 'D','D']\n",
    "\n",
    "person = [1, 1]\n",
    "\n",
    "for idx in range(6):\n",
    "    if move[idx] == 'R' and person[0] < N:\n",
    "        person[0] += 1\n",
    "        \n",
    "    elif move[idx] == 'L' and person[0] > 1:\n",
    "        person[0] -= 1\n",
    "\n",
    "    elif move[idx] == 'U' and person[1] > 1:\n",
    "        person[1] -= 1\n",
    "\n",
    "    elif move[idx] == 'D' and person[1] < N:\n",
    "        person[1] += 1\n",
    "\n",
    "print(person[1], person[0])"
   ]
  },
  {
   "cell_type": "code",
   "execution_count": 9,
   "metadata": {
    "ExecuteTime": {
     "end_time": "2020-10-27T00:41:38.933782Z",
     "start_time": "2020-10-27T00:41:38.921113Z"
    }
   },
   "outputs": [
    {
     "name": "stdout",
     "output_type": "stream",
     "text": [
      "11475\n"
     ]
    }
   ],
   "source": [
    "# 시각\n",
    "\n",
    "\n",
    "N = 5\n",
    "\n",
    "# 00~59 : 14 *\n",
    "# 14* 60 + 46 * 14\n",
    "# 3 : 3600 \n",
    "# 13 : 36--\n",
    "# 23 : 3600\n",
    "\n",
    "if N <3 :\n",
    "    result = (15*60 + 45*15)*(N+1)\n",
    "\n",
    "elif N< 13:\n",
    "    result = (15*60 + 45*15)*(N) + 3600\n",
    "elif N <23:\n",
    "    result = (15*60 + 46*15)*N + 3600*2\n",
    "else:\n",
    "    result = (15*60 + 46*15)*N + 3600*3\n",
    "    \n",
    "print (result)"
   ]
  },
  {
   "cell_type": "code",
   "execution_count": 17,
   "metadata": {
    "ExecuteTime": {
     "end_time": "2020-10-27T00:51:56.755399Z",
     "start_time": "2020-10-27T00:51:55.986457Z"
    }
   },
   "outputs": [
    {
     "name": "stdout",
     "output_type": "stream",
     "text": [
      "c2\n",
      "6\n"
     ]
    }
   ],
   "source": [
    "# 왕실의 나이트\n",
    "\n",
    "move = [(1,2),(1,-2),(-1,2),(-1,-2),(2,1),(2,-1),(-2,1),(-2,-1)]\n",
    "\n",
    "input_data = input()\n",
    "\n",
    "column =  int(input_data[1])\n",
    "row = ord(input_data[0]) - ord('a')+1\n",
    "\n",
    "cnt = 0\n",
    "for x,y in move:\n",
    "    mx= row +x\n",
    "    my = column +y\n",
    "    \n",
    "    if mx >0 and mx<9 and my>0 and my<9:\n",
    "        cnt +=1\n",
    "print(cnt)\n"
   ]
  },
  {
   "cell_type": "code",
   "execution_count": 21,
   "metadata": {
    "ExecuteTime": {
     "end_time": "2020-10-27T01:22:02.919835Z",
     "start_time": "2020-10-27T01:22:02.904877Z"
    }
   },
   "outputs": [
    {
     "name": "stdout",
     "output_type": "stream",
     "text": [
      "[[1, 1, 1, 1], [1, 1, 0, 1], [1, 1, 0, 1], [1, 1, 1, 1]]\n",
      "[[1, 1, 1, 1], [1, 1, 0, 1], [1, 1, 0, 1], [1, 1, 1, 1]]\n",
      "[[1, 1, 1, 1], [1, 1, 1, 1], [1, 1, 0, 1], [1, 1, 1, 1]]\n",
      "[[1, 1, 1, 1], [1, 1, 1, 1], [1, 1, 0, 1], [1, 1, 1, 1]]\n",
      "[[1, 1, 1, 1], [1, 1, 1, 1], [1, 1, 0, 1], [1, 1, 1, 1]]\n",
      "[[1, 1, 1, 1], [1, 1, 1, 1], [1, 1, 1, 1], [1, 1, 1, 1]]\n",
      "[[1, 1, 1, 1], [1, 1, 1, 1], [1, 1, 1, 1], [1, 1, 1, 1]]\n",
      "[[1, 1, 1, 1], [1, 1, 1, 1], [1, 1, 1, 1], [1, 1, 1, 1]]\n",
      "[[1, 1, 1, 1], [1, 1, 1, 1], [1, 1, 1, 1], [1, 1, 1, 1]]\n",
      "3\n"
     ]
    }
   ],
   "source": [
    "# 게임 개발\n",
    "# 현재 위치에서 왼쪽으로 회전\n",
    "# 회전하고 앞으로 갈수 있으면 이동 없으면 다시 회전\n",
    "# 네방향 모두 가본칸이거나 바다로 되어있으면 원래 방향에서 뒤로\n",
    "# 뒤칸이 바다면 종료\n",
    "# 0 북 1 동 2 남 3 서\n",
    "\n",
    "n, m = 4, 4\n",
    "A, B, D = 1, 1, 0\n",
    "graph = [[1, 1, 1, 1], [1, 0, 0, 1], [1, 1, 0, 1], [1, 1, 1, 1]]\n",
    "dx = [0, -1, 0, 1]\n",
    "dy = [-1, 0, 1, 0]\n",
    "\n",
    "#현재 좌표 방문 처리\n",
    "graph[A][B] = 1\n",
    "\n",
    "turn = 0\n",
    "result = 1\n",
    "\n",
    "while True:\n",
    "    \n",
    "    # 회전\n",
    "    D -= 1\n",
    "    turn += 1\n",
    "    if D < 0:\n",
    "        D = 3\n",
    "\n",
    "    if graph[A+dx[D]][B+dy[D]] == 0:\n",
    "        result += 1\n",
    "        A += dx[D]\n",
    "        B += dy[D]\n",
    "        graph[A][B] = 1\n",
    "        turn = 0\n",
    "        continue\n",
    "\n",
    "    if turn == 4:\n",
    "        if graph[A-dx[D]][B-dy[D]] == 0:\n",
    "            A -= dx[D]\n",
    "            B -= dy[D]\n",
    "            turn = 0\n",
    "        else:\n",
    "            break\n",
    "\n",
    "print(result)"
   ]
  },
  {
   "cell_type": "code",
   "execution_count": 29,
   "metadata": {
    "ExecuteTime": {
     "end_time": "2020-10-27T01:40:43.742601Z",
     "start_time": "2020-10-27T01:40:43.733625Z"
    }
   },
   "outputs": [
    {
     "name": "stdout",
     "output_type": "stream",
     "text": [
      "1 2 7 6 8 3 4 5 "
     ]
    }
   ],
   "source": [
    "# DFS\n",
    "\n",
    "def dfs(graph,u,visited):\n",
    "    # 현재 노드를 방문 처리\n",
    "    visited[u] = 1\n",
    "    print(u,end =' ')\n",
    "    for v in graph[u]:\n",
    "        if not visited[v]:\n",
    "            dfs(graph,v,visited)\n",
    "graph = [\n",
    "  [],\n",
    "  [2, 3, 8],\n",
    "  [1, 7],\n",
    "  [1, 4, 5],\n",
    "  [3, 5],\n",
    "  [3, 4],\n",
    "  [7],\n",
    "  [2, 6, 8],\n",
    "  [1, 7]\n",
    "]\n",
    "\n",
    "\n",
    "visitied = [False] * 9\n",
    "\n",
    "dfs(graph,1,visitied)"
   ]
  },
  {
   "cell_type": "code",
   "execution_count": 34,
   "metadata": {
    "ExecuteTime": {
     "end_time": "2020-10-27T01:44:08.295363Z",
     "start_time": "2020-10-27T01:44:08.284392Z"
    }
   },
   "outputs": [
    {
     "name": "stdout",
     "output_type": "stream",
     "text": [
      "1 2 3 8 7 4 5 6 "
     ]
    }
   ],
   "source": [
    "# BFS\n",
    "\n",
    "from collections import deque\n",
    "\n",
    "def bfs(start,visited,graph):\n",
    "    \n",
    "    queue = deque([start])\n",
    "    visited[start] = 1\n",
    "    while queue:\n",
    "        \n",
    "        u = queue.popleft()\n",
    "        print(u,end =' ')\n",
    "        for v in graph[u]:\n",
    "            if not visited[v]:\n",
    "                queue.append(v)\n",
    "                visited[v]= 1\n",
    "                \n",
    "graph = [\n",
    "  [],\n",
    "  [2, 3, 8],\n",
    "  [1, 7],\n",
    "  [1, 4, 5],\n",
    "  [3, 5],\n",
    "  [3, 4],\n",
    "  [7],\n",
    "  [2, 6, 8],\n",
    "  [1, 7]\n",
    "]\n",
    "\n",
    "\n",
    "visitied = [False] * 9\n",
    "\n",
    "bfs(1,visitied,graph)\n"
   ]
  },
  {
   "cell_type": "code",
   "execution_count": 47,
   "metadata": {
    "ExecuteTime": {
     "end_time": "2020-10-27T01:57:50.196590Z",
     "start_time": "2020-10-27T01:57:50.176642Z"
    }
   },
   "outputs": [
    {
     "name": "stdout",
     "output_type": "stream",
     "text": [
      "3\n"
     ]
    }
   ],
   "source": [
    "# 음료수 얼려 먹기\n",
    "from collections import deque\n",
    "ice = ['00110', '00011', '11111', '00000']\n",
    "\n",
    "graph = [[int(x) for x in y] for y in ice]\n",
    "\n",
    "dx= [1,-1,0,0]\n",
    "dy= [0,0,1,-1]\n",
    "\n",
    "def dfs(graph,y,x):\n",
    "    graph[y][x] = 1\n",
    "    print(graph)\n",
    "    for i in range(4):\n",
    "        nx= x +dx[i]\n",
    "        ny =  y+ dy[i]\n",
    "        \n",
    "        if nx>-1 and nx<5 and ny > -1 and ny < 4:\n",
    "            if graph[ny][nx] == 0:\n",
    "                dfs(graph,ny,nx)\n",
    "                \n",
    "\n",
    "\n",
    "\n",
    "def bfs(graph,y,x):\n",
    "    graph[y][x] = 1\n",
    "    queue = deque()\n",
    "    queue.append((y,x))\n",
    "    \n",
    "    while queue:\n",
    "        y,x = queue.popleft()\n",
    "        \n",
    "        \n",
    "        for i in range(4):\n",
    "            ny = y+dy[i]\n",
    "            nx = x +dx[i]\n",
    "            \n",
    "            if nx>-1 and ny>-1 and nx<5 and ny<4:\n",
    "                if graph [ny][nx] ==0:\n",
    "                    queue.append((ny,nx))\n",
    "                    graph[ny][nx] =1\n",
    "    \n",
    "    \n",
    "    return\n",
    "\n",
    "cnt = 0\n",
    "\n",
    "for i in range(len(graph)):\n",
    "    for j in range(len(graph[i])):\n",
    "        if graph[i][j] == 0 :\n",
    "            \n",
    "            bfs(graph,i,j)\n",
    "            cnt +=1\n",
    "            \n",
    "print(cnt)\n",
    "        \n",
    "\n"
   ]
  },
  {
   "cell_type": "code",
   "execution_count": 60,
   "metadata": {
    "ExecuteTime": {
     "end_time": "2020-10-27T03:37:14.685961Z",
     "start_time": "2020-10-27T03:37:14.658036Z"
    }
   },
   "outputs": [
    {
     "name": "stdout",
     "output_type": "stream",
     "text": [
      "[[0, 0, 1, 0, 1, 0], [1, 1, 1, 1, 1, 1], [0, 0, 0, 0, 0, 1], [1, 1, 1, 1, 1, 1], [1, 1, 1, 1, 1, 1]]\n",
      "[[0, 0, 1, 0, 1, 0], [0, 1, 1, 1, 1, 1], [0, 0, 0, 0, 0, 1], [1, 1, 1, 1, 1, 1], [1, 1, 1, 1, 1, 1]]\n",
      "[[0, 0, 1, 0, 1, 0], [0, 0, 1, 1, 1, 1], [0, 0, 0, 0, 0, 1], [1, 1, 1, 1, 1, 1], [1, 1, 1, 1, 1, 1]]\n",
      "[[0, 0, 1, 0, 1, 0], [0, 0, 0, 1, 1, 1], [0, 0, 0, 0, 0, 1], [1, 1, 1, 1, 1, 1], [1, 1, 1, 1, 1, 1]]\n",
      "[[0, 0, 0, 0, 1, 0], [0, 0, 0, 0, 1, 1], [0, 0, 0, 0, 0, 1], [1, 1, 1, 1, 1, 1], [1, 1, 1, 1, 1, 1]]\n",
      "[[0, 0, 0, 0, 1, 0], [0, 0, 0, 0, 0, 1], [0, 0, 0, 0, 0, 1], [1, 1, 1, 1, 1, 1], [1, 1, 1, 1, 1, 1]]\n",
      "[[0, 0, 0, 0, 0, 0], [0, 0, 0, 0, 0, 0], [0, 0, 0, 0, 0, 1], [1, 1, 1, 1, 1, 1], [1, 1, 1, 1, 1, 1]]\n",
      "[[0, 0, 0, 0, 0, 0], [0, 0, 0, 0, 0, 0], [0, 0, 0, 0, 0, 0], [1, 1, 1, 1, 1, 1], [1, 1, 1, 1, 1, 1]]\n",
      "[[0, 0, 0, 0, 0, 0], [0, 0, 0, 0, 0, 0], [0, 0, 0, 0, 0, 0], [1, 1, 1, 1, 1, 0], [1, 1, 1, 1, 1, 1]]\n"
     ]
    },
    {
     "data": {
      "text/plain": [
       "10"
      ]
     },
     "execution_count": 60,
     "metadata": {},
     "output_type": "execute_result"
    }
   ],
   "source": [
    "# 미로 탈출\n",
    "N,M = 5,6\n",
    "miro = ['101010', '111111', '000001', '111111', '111111']\n",
    "\n",
    "graph = [[int(x) for x in y] for y in miro]\n",
    "\n",
    "def bfs(graph):\n",
    "    queue = deque()\n",
    "    queue.append((0,0))\n",
    "    cnt = 1\n",
    "    graph[0][0] = 0\n",
    "    while queue:\n",
    "        qSize= len(queue)\n",
    "        cnt +=1\n",
    "        print(graph)\n",
    "        for _ in range(qSize):\n",
    "            y,x = queue.popleft()\n",
    "            \n",
    "            for i in range(4):\n",
    "                nx = x +dx[i]\n",
    "                ny = y +dy[i]\n",
    "                if ny == N-1 and nx ==M-1 :\n",
    "                    return cnt\n",
    "                if nx >-1 and ny >-1 and nx < M and ny < N:\n",
    "                    if graph[ny][nx] == 1:\n",
    "                        queue.append((ny,nx))\n",
    "                        graph[ny][nx] = 0\n",
    "    return cnt\n",
    "\n",
    "\n",
    "bfs(graph)\n",
    "    \n",
    "    "
   ]
  },
  {
   "cell_type": "code",
   "execution_count": 64,
   "metadata": {
    "ExecuteTime": {
     "end_time": "2020-10-27T04:55:04.212653Z",
     "start_time": "2020-10-27T04:55:04.197642Z"
    }
   },
   "outputs": [
    {
     "name": "stdout",
     "output_type": "stream",
     "text": [
      "['no', 'yes', 'yes']\n"
     ]
    }
   ],
   "source": [
    "# 부품 찾기\n",
    "\n",
    "N,M= 5,3\n",
    "parts = [8,3,7,9,2]\n",
    "want = [5,7,9]\n",
    "\n",
    "def binary_search(parts,target,left,right):\n",
    "    while left <= right:\n",
    "        mid = (left+right)//2\n",
    "        \n",
    "        if parts[mid] == target:\n",
    "            return True\n",
    "        elif parts[mid] > target:\n",
    "            right = mid- 1\n",
    "        else :\n",
    "            left = mid +1\n",
    "    return False\n",
    "\n",
    "parts.sort()\n",
    "result = []\n",
    "for target in want:\n",
    "    if binary_search(parts,target,0,N-1):\n",
    "        result.append('yes')\n",
    "    else :\n",
    "        result.append('no')\n",
    "        \n",
    "print (result)\n",
    "    "
   ]
  },
  {
   "cell_type": "code",
   "execution_count": 74,
   "metadata": {
    "ExecuteTime": {
     "end_time": "2020-10-27T05:11:12.057125Z",
     "start_time": "2020-10-27T05:11:12.048150Z"
    }
   },
   "outputs": [
    {
     "name": "stdout",
     "output_type": "stream",
     "text": [
      "15\n"
     ]
    }
   ],
   "source": [
    "# 떡볶이 떡 만들기\n",
    "\n",
    "N,M = 4,6\n",
    "rice_cake = [19,15,10,18]\n",
    "\n",
    "low= 0\n",
    "high = max(rice_cake)-1\n",
    "\n",
    "H = 0\n",
    "result = 0\n",
    "while low<= high:\n",
    "    \n",
    "    H = (low+high)//2\n",
    "    get_rice = 0\n",
    "    for i in range(N):\n",
    "        if (rice_cake[i]-H) > 0 :\n",
    "            get_rice = get_rice + (rice_cake[i]-H)\n",
    "    \n",
    "    # 딱 맞다 그럼 break\n",
    "    if get_rice == M :\n",
    "        break;\n",
    "    # 부족하다그럼 더짤라야겠지\n",
    "    elif get_rice > M:\n",
    "        low = H+1\n",
    "        \n",
    "    else :\n",
    "        result = H\n",
    "        high = H-1\n",
    "    \n",
    "    \n",
    "        \n",
    "print(H)"
   ]
  },
  {
   "cell_type": "code",
   "execution_count": 77,
   "metadata": {
    "ExecuteTime": {
     "end_time": "2020-10-27T05:18:38.765388Z",
     "start_time": "2020-10-27T05:18:38.756834Z"
    }
   },
   "outputs": [
    {
     "name": "stdout",
     "output_type": "stream",
     "text": [
      "3\n"
     ]
    }
   ],
   "source": [
    "# 1로 만들기\n",
    "\n",
    "n = 26\n",
    "\n",
    "d = [0] * 30001\n",
    "\n",
    "for i in range(2, n+1):\n",
    "    \n",
    "    # 현재의 수에서 1을 뺴는 경우\n",
    "    d[i] = d[i-1] +1\n",
    "    \n",
    "    #현재의 수가 2로 나누어 떨어지는 경우\n",
    "    \n",
    "    if i%2 == 0:\n",
    "        d[i] = min(d[i],d[i//2] +1)\n",
    "    #현재의 수가 3으로 나누어 떨어지는 경우\n",
    "    if i%3 ==0:\n",
    "        d[i] = min (d[i], d[i//3] +1)\n",
    "    # 현재의 수가 5로 나누어 떨어지는 경우\n",
    "    if i%5 ==0 :\n",
    "        d[i] = min(d[i],d[i//5] +1 )\n",
    "print(d[n])"
   ]
  },
  {
   "cell_type": "code",
   "execution_count": 80,
   "metadata": {
    "ExecuteTime": {
     "end_time": "2020-10-27T05:21:55.569041Z",
     "start_time": "2020-10-27T05:21:55.558070Z"
    }
   },
   "outputs": [
    {
     "name": "stdout",
     "output_type": "stream",
     "text": [
      "8\n"
     ]
    }
   ],
   "source": [
    "# 개미 전사\n",
    "\n",
    "N =4\n",
    "foods = [1,3,1,5]\n",
    "\n",
    "arr = [0] * 101\n",
    "\n",
    "arr[0]= foods[0]\n",
    "arr[1]= max(arr[0],foods[1])\n",
    "\n",
    "for i in range( 2,N):\n",
    "    arr[i] = max(foods[i]+arr[i-2],arr[i-1])\n",
    "\n",
    "print(arr[N-1])\n",
    "    "
   ]
  },
  {
   "cell_type": "code",
   "execution_count": 83,
   "metadata": {
    "ExecuteTime": {
     "end_time": "2020-10-27T05:30:09.918616Z",
     "start_time": "2020-10-27T05:30:08.833481Z"
    }
   },
   "outputs": [
    {
     "name": "stdout",
     "output_type": "stream",
     "text": [
      "3\n",
      "5\n"
     ]
    }
   ],
   "source": [
    "# 바닥공사\n",
    "\n",
    "n = int(input())\n",
    "\n",
    "dp = [0] * 30001\n",
    "\n",
    "dp[1]= 1\n",
    "dp[2]= 3\n",
    "\n",
    "\n",
    "for i in range(3,n+1):\n",
    "    dp[i] = dp[i-2]*2 +dp[i-1]\n",
    "print(dp[n])\n",
    "   "
   ]
  },
  {
   "cell_type": "code",
   "execution_count": 85,
   "metadata": {
    "ExecuteTime": {
     "end_time": "2020-10-27T05:34:37.925274Z",
     "start_time": "2020-10-27T05:34:37.915302Z"
    }
   },
   "outputs": [
    {
     "name": "stdout",
     "output_type": "stream",
     "text": [
      "[0, 10001, 1, 10001, 2, 10001, 3, 10001, 4, 10001, 5, 10001, 6, 10001, 7, 10001]\n",
      "[0, 10001, 1, 1, 2, 2, 2, 3, 3, 3, 4, 4, 4, 5, 5, 5]\n",
      "5\n"
     ]
    }
   ],
   "source": [
    "# 효율적인 화폐 구성\n",
    "N,M = 2, 15\n",
    "coin = [2,3]\n",
    "\n",
    "dp = [10001] *(M+1)\n",
    "dp[0] = 0\n",
    "for i in range(N):\n",
    "    for j in range(coin[i],M+1):\n",
    "        if dp[j-coin[i]] != 10001 :\n",
    "            dp[j] = min(dp[j],dp[j-coin[i]]+1)\n",
    "    print(dp)\n",
    "print(dp[M])"
   ]
  },
  {
   "cell_type": "code",
   "execution_count": 106,
   "metadata": {
    "ExecuteTime": {
     "end_time": "2020-10-27T06:08:45.654526Z",
     "start_time": "2020-10-27T06:08:45.637572Z"
    }
   },
   "outputs": [
    {
     "name": "stdout",
     "output_type": "stream",
     "text": [
      "1 : 0\n",
      "2 : 2\n",
      "3 : 3\n",
      "4 : 1\n",
      "5 : 2\n",
      "6 : 4\n"
     ]
    }
   ],
   "source": [
    "# 다익스트라\n",
    "import heapq\n",
    "import collections\n",
    "def dijkstra(nodes,start):\n",
    "    graph = collections.defaultdict(list)\n",
    "    # 그래프 생성\n",
    "    for u,v,w in nodes:\n",
    "        graph[u].append((v,w))\n",
    "    \n",
    "    # 힙 생성    \n",
    "    Q = [(0,start)]\n",
    "    \n",
    "    dist = collections.defaultdict(int)\n",
    "    \n",
    "    while Q:\n",
    "        time,node = heapq.heappop(Q)\n",
    "        \n",
    "        if node not in dist:\n",
    "            dist[node] = time\n",
    "            for v,w in graph[node]:                \n",
    "                heapq.heappush(Q,(time+w,v))\n",
    "        \n",
    "    return dist\n",
    "    \n",
    "\n",
    "nodes = [[1,2,2],[1,3,5],[1,4,1],[2,3,3],[2,4,2],[3,2,3],[3,6,5],[4,3,3],[4,5,1],[5,3,1],[5,6,2]]\n",
    "start = 1\n",
    "result = dijkstra(nodes,1)\n",
    "for i in range(1,len(result)+1):\n",
    "    print ( i,':',result[i])\n",
    "    \n",
    "\n"
   ]
  },
  {
   "cell_type": "code",
   "execution_count": 124,
   "metadata": {
    "ExecuteTime": {
     "end_time": "2020-10-27T06:19:59.173866Z",
     "start_time": "2020-10-27T06:19:59.160895Z"
    }
   },
   "outputs": [
    {
     "name": "stdout",
     "output_type": "stream",
     "text": [
      "3\n"
     ]
    }
   ],
   "source": [
    "# 이것이 코딩테스트다 - 미래 도시 (최단경로)\n",
    "\n",
    "# 1번회사에서 출발 하여 K번 회사를 방문한 뒤에 X번 회사로 가는 것이 목표.\n",
    "INF = int(1e9)\n",
    "\n",
    "\n",
    "n, X, K = 5, 4, 5\n",
    "nodes = [[1, 2], [1, 3], [1, 4], [2, 4], [3, 4], [3, 5], [4, 5]]\n",
    "\n",
    "# 2차원 리스트 생성후 무한으로 초기화\n",
    "graph = [[INF] * (n+1) for _ in range(n+1)]\n",
    "\n",
    "for u, v in nodes:\n",
    "    graph[u][v] = 1\n",
    "    graph[v][u]= 1\n",
    "\n",
    "\n",
    "for k in range(1,n+1):\n",
    "    for i in range(1,n+1):\n",
    "        for j in range(1,n+1):\n",
    "            graph[i][j] = min(graph[i][j], graph[i][k]+graph[k][j])\n",
    "\n",
    "print(graph[1][K]+graph[K][X])"
   ]
  },
  {
   "cell_type": "code",
   "execution_count": 129,
   "metadata": {
    "ExecuteTime": {
     "end_time": "2020-10-27T06:27:03.686205Z",
     "start_time": "2020-10-27T06:27:03.676234Z"
    }
   },
   "outputs": [
    {
     "name": "stdout",
     "output_type": "stream",
     "text": [
      "2 4\n"
     ]
    }
   ],
   "source": [
    "# 전보\n",
    "import heapq\n",
    "import collections\n",
    "\n",
    "start = 1\n",
    "nodes = [[1,2,4],[1,3,2]]\n",
    "\n",
    "\n",
    "def dijkstra(nodes,start):\n",
    "    graph = collections.defaultdict(list)\n",
    "    for u,v,w in nodes:\n",
    "        graph[u].append((v,w))\n",
    "    Q = [(0,start)]\n",
    "    \n",
    "    dist =collections.defaultdict(int)\n",
    "    \n",
    "    while Q :\n",
    "        time,node = heapq.heappop(Q)\n",
    "        \n",
    "        if node not in dist:\n",
    "            dist[node] = time\n",
    "            for v,w in graph[node]:\n",
    "                heapq.heappush(Q,(w+time,v))\n",
    "    return dist\n",
    "\n",
    "result = dijkstra(nodes,start)\n",
    "\n",
    "print(len(result)-1,max(result.values()))"
   ]
  },
  {
   "cell_type": "code",
   "execution_count": 133,
   "metadata": {
    "ExecuteTime": {
     "end_time": "2020-10-27T06:59:30.488690Z",
     "start_time": "2020-10-27T06:59:23.331353Z"
    }
   },
   "outputs": [
    {
     "name": "stdout",
     "output_type": "stream",
     "text": [
      "6 4\n",
      "1 4\n",
      "2 3\n",
      "2 4\n",
      "5 6\n",
      "각 원소가 속한 집합 \n",
      "----------------\n",
      "1 가 속한 집합: 1\n",
      "2 가 속한 집합: 1\n",
      "3 가 속한 집합: 1\n",
      "4 가 속한 집합: 1\n",
      "5 가 속한 집합: 5\n",
      "6 가 속한 집합: 5\n"
     ]
    }
   ],
   "source": [
    "# 서로소 집합\n",
    "\n",
    "# 특정 원소가 속한 집합 찾기\n",
    "def find_parent(parent,x):\n",
    "    #루트 노드가 아니라면, 루트 노드를 찾을 때 까지 재귀 호출\n",
    "    if parent[x] != x :\n",
    "        parent[x]=  find_parent(parent,parent[x])\n",
    "    \n",
    "    return x\n",
    "\n",
    "# 두 원소가 속한 집합을 합치가.\n",
    "def union_parent(parent,a,b):\n",
    "    a= find_parent(parent,a)\n",
    "    b= find_parent(parent,b)\n",
    "    \n",
    "    if a> b:\n",
    "        parent[a] = b\n",
    "    else:\n",
    "        parent [b]= a\n",
    "    \n",
    "\n",
    "v,e = map(int,input().split())\n",
    "parent = [0]*(v+1) # 부모 테이블 초기화\n",
    "\n",
    "# 부모 테이블 상에서, 부모테이블을 자기 자신으로 초기화\n",
    "for i in range(1,v+1):\n",
    "    parent[i]= i\n",
    "\n",
    "for i in range(e):\n",
    "    a,b= map(int,input().split())\n",
    "    union_parent(parent,a,b)\n",
    "\n",
    "# 각 원소가 속한 집합 출력\n",
    "print('각 원소가 속한 집합 ')\n",
    "print('----------------')\n",
    "\n",
    "for i in range(1,v+1):\n",
    "    print(i,'가 속한 집합:',find_parent(parent,i))\n",
    "\n",
    "    \n",
    "    "
   ]
  },
  {
   "cell_type": "code",
   "execution_count": 136,
   "metadata": {
    "ExecuteTime": {
     "end_time": "2020-10-27T07:20:43.262607Z",
     "start_time": "2020-10-27T07:20:43.252125Z"
    }
   },
   "outputs": [
    {
     "name": "stdout",
     "output_type": "stream",
     "text": [
      "159\n"
     ]
    }
   ],
   "source": [
    "# 부모 집합 칮기\n",
    "\n",
    "def find_parent(parent,x):\n",
    "    if parent[x] != x:\n",
    "        parent[x] = find_parent(parent,parent[x])\n",
    "    return parent[x]\n",
    "\n",
    "def union_parent(parent,a,b):\n",
    "    \n",
    "    a = find_parent(parent,a)\n",
    "    b = find_parent(parent,b)\n",
    "    \n",
    "    if a < b:\n",
    "        parent [b] = a\n",
    "    else:\n",
    "        parent [a] = b\n",
    "        \n",
    "\n",
    "#모든 간선을 담을 리스트와 최족 비용을 담을 변수\n",
    "edges = [(1, 2, 29),\n",
    "(1, 5, 75),\n",
    "( 2 ,3 ,35),\n",
    " (2 ,6, 34),\n",
    " (3 ,4, 7),\n",
    " (4 ,6, 23),\n",
    " (4 ,7, 13),\n",
    " (5 ,6, 53),\n",
    " (6 ,7, 25)]\n",
    "result = 0\n",
    "\n",
    "parent =[0] * (7+1)\n",
    "\n",
    "for i in range(7+1):\n",
    "    parent[i]= i\n",
    "\n",
    "edges.sort(key = lambda x:x[2])\n",
    "\n",
    "for i in range(len(edges)):\n",
    "    a= edges[i][0]\n",
    "    b=edges[i][1]\n",
    "    cost =edges[i][2]\n",
    "    \n",
    "    # 사이클이 발생하면 continue\n",
    "    if find_parent(parent,a) == find_parent(parent,b):\n",
    "        continue\n",
    "    \n",
    "    union_parent(parent,a,b)\n",
    "    result+=cost\n",
    "    \n",
    "print(result)"
   ]
  },
  {
   "cell_type": "code",
   "execution_count": 139,
   "metadata": {
    "ExecuteTime": {
     "end_time": "2020-10-27T07:27:10.796672Z",
     "start_time": "2020-10-27T07:26:59.174999Z"
    }
   },
   "outputs": [
    {
     "name": "stdout",
     "output_type": "stream",
     "text": [
      "7 8\n",
      "1 2\n",
      "1 5\n",
      "2 3\n",
      "2 6\n",
      "3 4\n",
      "4 7\n",
      "5 6\n",
      "6 4\n",
      "1 2 5 3 6 4 7 "
     ]
    }
   ],
   "source": [
    "# 위상 정렬 소스 코드\n",
    "from collections import deque\n",
    "\n",
    "#노드의 개수와 간선의 개수를 \n",
    "v,e = map(int,input().split())\n",
    "\n",
    "#모든 노드에 대한 진입차수는 0으로 초기화\n",
    "indegree = [0] * (v+1)\n",
    "\n",
    "# 각 노드에 연결된 간선 정보를 담기 위한 연결리스트(그래프) 초기화\n",
    "graph = [[]for i in range(v+1)]\n",
    "\n",
    "# 방향 그래프의 모든 간선 정보 입력 받기\n",
    "for _ in range(e):\n",
    "    a,b = map(int,input().split())\n",
    "    graph[a].append(b)\n",
    "    #진입차수 증가\n",
    "    indegree[b] +=1\n",
    "    \n",
    "#위상 정렬 함수\n",
    "def topology_sort():\n",
    "    result = [] # 알고리즘 수행 결과를 담을 리스트\n",
    "    q = deque() \n",
    "    \n",
    "    for i in range(1,v+1):\n",
    "        if indegree[i] ==0 :\n",
    "            q.append(i)\n",
    "    while q:\n",
    "        \n",
    "        now = q.popleft()\n",
    "        result.append(now)\n",
    "        \n",
    "        for i in graph[now]:\n",
    "            indegree[i]-=1\n",
    "            \n",
    "            if indegree[i] ==0:\n",
    "                q.append(i)\n",
    "                \n",
    "    for i in result :\n",
    "        print(i,end= ' ')\n",
    "topology_sort()\n"
   ]
  },
  {
   "cell_type": "code",
   "execution_count": 149,
   "metadata": {
    "ExecuteTime": {
     "end_time": "2020-10-27T07:45:42.620645Z",
     "start_time": "2020-10-27T07:45:42.610634Z"
    }
   },
   "outputs": [
    {
     "name": "stdout",
     "output_type": "stream",
     "text": [
      "['NO', 'NO', 'YES']\n"
     ]
    }
   ],
   "source": [
    "# 팀결성\n",
    "\n",
    "def find_parent(parent, x):\n",
    "    if parent[x] != x:\n",
    "        parent[x] = find_parent(parent,parent[x])\n",
    "    return parent[x]\n",
    "\n",
    "\n",
    "def union_parent(parent, a, b):\n",
    "    a = find_parent(parent, a)\n",
    "    b = find_parent(parent, b)\n",
    "\n",
    "    if a < b:\n",
    "        parent[b] = a\n",
    "    else:\n",
    "        parent[a] = b\n",
    "\n",
    "\n",
    "result = []\n",
    "\n",
    "N, M = 7, 8\n",
    "\n",
    "parent = [0] * (N+1)\n",
    "\n",
    "\n",
    "for i in range(1, N+1):\n",
    "    parent[i] = i\n",
    "\n",
    "command = ['0 1 3',\n",
    "           '1 1 7',\n",
    "           '0 7 6',\n",
    "           '1 7 1',\n",
    "           '0 3 7',\n",
    "           '0 4 2',\n",
    "           '0 1 1',\n",
    "           '1 1 1'\n",
    "           ]\n",
    "\n",
    "for i in range(M):\n",
    "    c, a, b = map(int, command[i].split())\n",
    "\n",
    "    if c == 0:\n",
    "        union_parent(parent, a, b)\n",
    "    else:\n",
    "        if find_parent(parent, a) == find_parent(parent, b):\n",
    "            result.append('YES')\n",
    "        else:\n",
    "            result.append('NO')\n",
    "\n",
    "print(result)"
   ]
  },
  {
   "cell_type": "code",
   "execution_count": 153,
   "metadata": {
    "ExecuteTime": {
     "end_time": "2020-10-27T07:53:58.816971Z",
     "start_time": "2020-10-27T07:53:58.800302Z"
    }
   },
   "outputs": [
    {
     "name": "stdout",
     "output_type": "stream",
     "text": [
      "8\n"
     ]
    }
   ],
   "source": [
    "# 도시 분할 계획\n",
    "\n",
    "def find_parent(parent,x):\n",
    "    if parent[x] != x:\n",
    "        parent[x] = find_parent(parent,parent[x])\n",
    "    return parent[x]\n",
    "\n",
    "def union_parent(parent,a,b):\n",
    "    a= find_parent(parent,a)\n",
    "    b = find_parent(parent,b)\n",
    "    \n",
    "    if a < b:\n",
    "        parent[b] = a\n",
    "        \n",
    "    else :\n",
    "        parent[a] = b\n",
    "\n",
    "N,M = 7,12\n",
    "nodes = [(1,2,3),(1,3,2),(3,2,1),(2,5,2),(3,4,4),(7,3,6),(5,1,5),(1,6,2),(6,4,1),(6,5,3),(4,5,3),(6,7,4)]\n",
    "\n",
    "parent = [0] *(N+1)\n",
    "\n",
    "for i in range(N+1):\n",
    "    parent[i]= i\n",
    "    \n",
    "result = 0\n",
    "max_cost = 0\n",
    "nodes.sort(key = lambda x : x[2])\n",
    "for a,b,cost in nodes:\n",
    "    if find_parent(parent,a) == find_parent(parent,b):\n",
    "        continue\n",
    "    \n",
    "    union_parent(parent,a,b)\n",
    "    result+=cost\n",
    "    max_cost = max(max_cost,cost)\n",
    "    \n",
    "print(result-max_cost)\n"
   ]
  },
  {
   "cell_type": "code",
   "execution_count": 182,
   "metadata": {
    "ExecuteTime": {
     "end_time": "2020-10-27T08:19:02.197011Z",
     "start_time": "2020-10-27T08:19:02.179933Z"
    }
   },
   "outputs": [
    {
     "name": "stdout",
     "output_type": "stream",
     "text": [
      "[10, 20, 14, 18, 17]\n"
     ]
    }
   ],
   "source": [
    "# 커리 큘럼\n",
    "\n",
    "import collections\n",
    "from collections import deque\n",
    "import copy\n",
    "N = 5\n",
    "\n",
    "indegree = [0] * (N+1)\n",
    "time = [0] * (N+1)\n",
    "graph = collections.defaultdict(list)\n",
    "\n",
    "input_data = '10 -1 10 1 -1 4 1 -1 4 3 1 -1 3 3 -1'\n",
    "input_data = input_data.split('-1')\n",
    "\n",
    "for i in range(N):\n",
    "    data = list(map(int,input_data[i].split()))\n",
    "    \n",
    "    time[i+1] = data[0]\n",
    "    for j in range(1, len(data)):\n",
    "        graph[data[j]].append(i+1)\n",
    "        indegree[i+1] += 1\n",
    "\n",
    "\n",
    "def topology_sort():\n",
    "    result = copy.deepcopy(time)\n",
    "    q = deque()\n",
    "    for i in range(1,N+1):\n",
    "        if indegree[i] == 0:\n",
    "            q.append(i)\n",
    "    \n",
    "    while q:\n",
    "        now = q.popleft()        \n",
    "        \n",
    "        \n",
    "        for node in graph[now]:\n",
    "            indegree[node] -=1\n",
    "            result[node] = max(result[node],time[node]+result[now])\n",
    "            \n",
    "            if indegree[node]==0:\n",
    "                q.append(node)\n",
    "    print(result[1:])\n",
    "topology_sort()\n",
    "\n",
    "                \n",
    "            "
   ]
  },
  {
   "cell_type": "code",
   "execution_count": null,
   "metadata": {},
   "outputs": [],
   "source": []
  }
 ],
 "metadata": {
  "kernelspec": {
   "display_name": "Python 3",
   "language": "python",
   "name": "python3"
  },
  "language_info": {
   "codemirror_mode": {
    "name": "ipython",
    "version": 3
   },
   "file_extension": ".py",
   "mimetype": "text/x-python",
   "name": "python",
   "nbconvert_exporter": "python",
   "pygments_lexer": "ipython3",
   "version": "3.7.3"
  },
  "toc": {
   "base_numbering": 1,
   "nav_menu": {},
   "number_sections": true,
   "sideBar": true,
   "skip_h1_title": false,
   "title_cell": "Table of Contents",
   "title_sidebar": "Contents",
   "toc_cell": false,
   "toc_position": {},
   "toc_section_display": true,
   "toc_window_display": false
  }
 },
 "nbformat": 4,
 "nbformat_minor": 2
}
