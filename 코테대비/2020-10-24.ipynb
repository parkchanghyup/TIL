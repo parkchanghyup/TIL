{
 "cells": [
  {
   "cell_type": "code",
   "execution_count": 11,
   "metadata": {
    "ExecuteTime": {
     "end_time": "2020-10-24T10:01:45.359939Z",
     "start_time": "2020-10-24T10:01:45.335950Z"
    }
   },
   "outputs": [
    {
     "data": {
      "text/plain": [
       "(0, 1)"
      ]
     },
     "execution_count": 11,
     "metadata": {},
     "output_type": "execute_result"
    }
   ],
   "source": [
    "# 두수의 합\n",
    "'''\n",
    "Input: nums = [2,7,11,15], target = 9\n",
    "Output: [0,1]\n",
    "'''\n",
    "\n",
    "from typing import List\n",
    "import collections\n",
    "\n",
    "def twoSum( nums: List[int], target: int) -> List[int]:\n",
    "    dic = collections.defaultdict(int)\n",
    "    \n",
    "    for idx,num in enumerate(nums):\n",
    "        dic[num]=idx\n",
    "        \n",
    "    for idx,num in enumerate(nums):\n",
    "        if  target - num in dic and idx !=dic[target-num]:\n",
    "            return nums.index(num), dic[target-num]\n",
    "        \n",
    "\n",
    "twoSum ( [3,3],6) \n",
    "        "
   ]
  },
  {
   "cell_type": "code",
   "execution_count": null,
   "metadata": {},
   "outputs": [],
   "source": [
    "# 빗물 쌓기\n",
    "\n",
    "def trap( height: List[int]) -> int:\n",
    "    stack =  []\n",
    "    volume = 0\n",
    "    \n",
    "    for  i in range(len(height)):\n",
    "        # 변곡점을 만나는 경우\n",
    "        while stack and  height[i]>height[stack[-1]]:\n",
    "            # 스택에서 꺼낸다\n",
    "            top = stack.pop()\n",
    "            \n",
    "            if not len(stack):\n",
    "                break\n",
    "            #이전과의 차이만큼 물높이 처리\n",
    "            distance = i -stack[-1]-1b\n",
    "    \n",
    "        "
   ]
  },
  {
   "cell_type": "code",
   "execution_count": 19,
   "metadata": {
    "ExecuteTime": {
     "end_time": "2020-10-24T10:31:36.937233Z",
     "start_time": "2020-10-24T10:31:36.917246Z"
    }
   },
   "outputs": [
    {
     "data": {
      "text/plain": [
       "[[-1, -1, 2], [-1, 0, 1]]"
      ]
     },
     "execution_count": 19,
     "metadata": {},
     "output_type": "execute_result"
    }
   ],
   "source": [
    "# 세수의 합\n",
    "'''\n",
    "Input: nums = [-1,0,1,2,-1,-4]\n",
    "Output: [[-1,-1,2],[-1,0,1]]\n",
    "'''\n",
    "\n",
    "\n",
    "def threeSum(nums: List[int]) -> List[List[int]]:\n",
    "\n",
    "    results = []\n",
    "    nums.sort()\n",
    "\n",
    "    for i in range(len(nums) - 2):\n",
    "        # 중복된 값 건너뛰기\n",
    "        if i > 0 and nums[i] == nums[i - 1]:\n",
    "            continue\n",
    "\n",
    "        #간격을 좁혀 가며 sum 계산\n",
    "        left, right = i + 1, len(nums) - 1\n",
    "        while left < right:\n",
    "            sum_num = nums[i] + nums[left] + nums[right]\n",
    "            if sum_num < 0:\n",
    "                left += 1\n",
    "            elif sum_num > 0:\n",
    "                right -= 1\n",
    "            else:\n",
    "                # sum = 0인 경우이므로 정답 및 스킵 처리\n",
    "                results.append([nums[i], nums[left], nums[right]])\n",
    "\n",
    "                while left < right and nums[left] == nums[left + 1]:\n",
    "                    left += 1\n",
    "                while left < right and nums[right] == nums[right - 1]:\n",
    "                    right -= 1\n",
    "                left == 1\n",
    "                right -= 1\n",
    "                \n",
    "    return results\n",
    "\n",
    "\n",
    "threeSum([-1, 0, 1, 2, -1, -4])"
   ]
  },
  {
   "cell_type": "code",
   "execution_count": 22,
   "metadata": {
    "ExecuteTime": {
     "end_time": "2020-10-24T10:42:00.536943Z",
     "start_time": "2020-10-24T10:42:00.527958Z"
    }
   },
   "outputs": [
    {
     "data": {
      "text/plain": [
       "'       \\nInput:  [1,2,3,4]\\nOutput: [24,12,8,6]'"
      ]
     },
     "execution_count": 22,
     "metadata": {},
     "output_type": "execute_result"
    }
   ],
   "source": [
    "# 자신을 제외한 배열의 곱\n",
    "\n",
    "def productExceptSelf( nums: List[int]) -> List[int]:\n",
    "    out = []\n",
    "    p = 1\n",
    "    for i in range(0,len(nums)):\n",
    "        out.append(p)\n",
    "        p *= nums[i]\n",
    "    \n",
    "    p = 1\n",
    "    \n",
    "    for i in range(len(nums)-1,-1,-1):\n",
    "        out[i] = out[i] *p\n",
    "        p *= nums[i]\n",
    "    return out\n",
    "\n",
    "\n",
    "\n",
    "'''       \n",
    "Input:  [1,2,3,4]\n",
    "\n",
    "Output: [24,12,8,6]'''"
   ]
  },
  {
   "cell_type": "code",
   "execution_count": 26,
   "metadata": {
    "ExecuteTime": {
     "end_time": "2020-10-24T11:28:40.573599Z",
     "start_time": "2020-10-24T11:28:40.548624Z"
    }
   },
   "outputs": [
    {
     "data": {
      "text/plain": [
       "5"
      ]
     },
     "execution_count": 26,
     "metadata": {},
     "output_type": "execute_result"
    }
   ],
   "source": [
    "#주식을 사고팔기 가장 좋은 시점\n",
    "\n",
    "'''\n",
    "Input: [7,1,5,3,6,4]\n",
    "Output: 5\n",
    "'''\n",
    "import  sys\n",
    "\n",
    "def maxProfit( prices: List[int]) -> int:\n",
    "    profit = 0\n",
    "    min_price = sys.maxsize\n",
    "    \n",
    "    for price in prices:\n",
    "        min_price = min(min_price,price)\n",
    "        profit = max(profit, price -min_price)\n",
    "        \n",
    "    return profit\n",
    "\n",
    "maxProfit([7,1,5,3,6,4])\n",
    "        "
   ]
  },
  {
   "cell_type": "code",
   "execution_count": 33,
   "metadata": {
    "ExecuteTime": {
     "end_time": "2020-10-24T11:41:10.933845Z",
     "start_time": "2020-10-24T11:41:10.726972Z"
    }
   },
   "outputs": [
    {
     "name": "stdout",
     "output_type": "stream",
     "text": [
      "['c']\n",
      "['b']\n",
      "['a']\n",
      "['a', 'c']\n",
      "['a', 'c', 'd']\n",
      "['a', 'c', 'd', 'b']\n"
     ]
    },
    {
     "data": {
      "text/plain": [
       "'acdb'"
      ]
     },
     "execution_count": 33,
     "metadata": {},
     "output_type": "execute_result"
    }
   ],
   "source": [
    "# 중복 문자 제거\n",
    "\n",
    "'''\n",
    "Input: s = \"bcabc\"\n",
    "Output: \"abc\"\n",
    "'''\n",
    "import collections\n",
    "\n",
    "def removeDuplicateLetters(s: str) -> str:\n",
    "    counter,seen,stack = collections.Counter(s),set(),[]\n",
    "        \n",
    "    for char in s :\n",
    "        counter[char] -=1\n",
    "        if char in seen :\n",
    "            continue\n",
    "        # 뒤에 붙일 문자가 남아 있다면 스택에서 제거\n",
    "        while stack and char < stack [-1] and counter[stack[-1]]  > 0:\n",
    "            seen.remove(stack.pop())\n",
    "        stack.append(char)\n",
    "        seen.add(char)\n",
    "        print(stack)\n",
    "    \n",
    "    return (''.join(stack))\n",
    "removeDuplicateLetters ('cbacdcbc')       "
   ]
  },
  {
   "cell_type": "code",
   "execution_count": 43,
   "metadata": {
    "ExecuteTime": {
     "end_time": "2020-10-24T11:56:14.195188Z",
     "start_time": "2020-10-24T11:56:14.180196Z"
    }
   },
   "outputs": [
    {
     "name": "stdout",
     "output_type": "stream",
     "text": [
      "73\n",
      "74\n",
      "69\n",
      "71\n",
      "72\n",
      "75\n"
     ]
    },
    {
     "data": {
      "text/plain": [
       "[1, 1, 4, 2, 1, 1, 0, 0]"
      ]
     },
     "execution_count": 43,
     "metadata": {},
     "output_type": "execute_result"
    }
   ],
   "source": [
    "# 일일 온도\n",
    "'''T = [73, 74, 75, 71, 69, 72, 76, 73], \n",
    "your output should be [1, 1, 4, 2, 1, 1, 0, 0].'''\n",
    "\n",
    "\n",
    "def dailyTemperatures(T: List[int]) -> List[int]:\n",
    "    stack = []\n",
    "    answer = [0] * len(T)\n",
    "    for idx, temp in enumerate(T):\n",
    "        #스택이 비어있으면 그냥 넣어\n",
    "        if not stack:\n",
    "            stack.append((idx, temp))\n",
    "\n",
    "        else:\n",
    "            # 온도가 상승함\n",
    "            while stack and stack[-1][1] < temp:\n",
    "\n",
    "                answer[stack[-1][0]] = idx - stack[-1][0]\n",
    "                stack.pop()\n",
    "\n",
    "            stack.append((idx, temp))\n",
    "\n",
    "    return answer\n",
    "\n",
    "\n",
    "dailyTemperatures([73, 74, 75, 71, 69, 72, 76, 73])"
   ]
  },
  {
   "cell_type": "code",
   "execution_count": 46,
   "metadata": {
    "ExecuteTime": {
     "end_time": "2020-10-24T12:13:10.149965Z",
     "start_time": "2020-10-24T12:13:10.120982Z"
    }
   },
   "outputs": [
    {
     "data": {
      "text/plain": [
       "3"
      ]
     },
     "execution_count": 46,
     "metadata": {},
     "output_type": "execute_result"
    }
   ],
   "source": [
    "# 보석과 돌 \n",
    "\n",
    "'''\n",
    "Input: J = \"aA\", S = \"aAAbbbb\"\n",
    "Output: 3\n",
    "'''\n",
    "import collections\n",
    "def numJewelsInStones( J: str, S: str) -> int:\n",
    "    counter = collections.Counter(S)\n",
    "    \n",
    "    answer =0\n",
    "    for j in J:\n",
    "        if j in counter:\n",
    "            answer+=counter[j]\n",
    "            \n",
    "    return answer\n",
    "    \n",
    "    \n",
    "numJewelsInStones(J = \"aA\", S = \"aAAbbbb\")"
   ]
  },
  {
   "cell_type": "code",
   "execution_count": 51,
   "metadata": {
    "ExecuteTime": {
     "end_time": "2020-10-24T12:29:42.310718Z",
     "start_time": "2020-10-24T12:29:42.294727Z"
    }
   },
   "outputs": [
    {
     "name": "stdout",
     "output_type": "stream",
     "text": [
      "0\n",
      "0\n",
      "2\n",
      "2\n",
      "2\n",
      "2\n",
      "2\n"
     ]
    },
    {
     "data": {
      "text/plain": [
       "5"
      ]
     },
     "execution_count": 51,
     "metadata": {},
     "output_type": "execute_result"
    }
   ],
   "source": [
    "# 중복 문자 없는 가장 긴 부분 문자열\n",
    "\n",
    "def lengthOfLongestSubstring(s: str) -> int:\n",
    "    used = {}\n",
    "    max_length = start = 0\n",
    "    for index, char in enumerate(s):\n",
    "        # 이미 등장했던 문자라면 'start' 위치갱신\n",
    "        if char in used and start <=used[char]:\n",
    "            start = used[char]+1\n",
    "        else :\n",
    "            max_length = max(max_length,index-start+1)\n",
    "        print(start)\n",
    "        #현재 문자 위치 삽입\n",
    "        used[char] = index\n",
    "        \n",
    "    return max_length\n",
    "    \n",
    "lengthOfLongestSubstring(\"tmmzuxt\")\n",
    "        "
   ]
  },
  {
   "cell_type": "code",
   "execution_count": 55,
   "metadata": {
    "ExecuteTime": {
     "end_time": "2020-10-24T12:35:54.571655Z",
     "start_time": "2020-10-24T12:35:54.559663Z"
    }
   },
   "outputs": [
    {
     "data": {
      "text/plain": [
       "[1, 2]"
      ]
     },
     "execution_count": 55,
     "metadata": {},
     "output_type": "execute_result"
    }
   ],
   "source": [
    "# 상위 k 빈도수 \n",
    "'''\n",
    "Input: nums = [1,1,1,2,2,3], k = 2\n",
    "Output: [1,2]\n",
    "'''\n",
    "\n",
    "import heapq\n",
    "def topKFrequent( nums: List[int], k: int) -> List[int]:\n",
    "    counter = collections.Counter(nums)\n",
    "    answer =[]\n",
    "    queue = []\n",
    "    \n",
    "    for num  in counter:\n",
    "        heapq.heappush(queue,(-counter[num],num))\n",
    "    \n",
    "    for _ in range(k):\n",
    "        answer.append(heapq.heappop(queue)[1])\n",
    "        \n",
    "        \n",
    "    return answer\n",
    "    \n",
    "topKFrequent( nums = [1,1,1,2,2,3], k = 2)   "
   ]
  },
  {
   "cell_type": "code",
   "execution_count": null,
   "metadata": {},
   "outputs": [],
   "source": []
  },
  {
   "cell_type": "code",
   "execution_count": null,
   "metadata": {},
   "outputs": [],
   "source": []
  },
  {
   "cell_type": "code",
   "execution_count": null,
   "metadata": {},
   "outputs": [],
   "source": []
  },
  {
   "cell_type": "code",
   "execution_count": null,
   "metadata": {},
   "outputs": [],
   "source": []
  }
 ],
 "metadata": {
  "kernelspec": {
   "display_name": "Python 3",
   "language": "python",
   "name": "python3"
  },
  "language_info": {
   "codemirror_mode": {
    "name": "ipython",
    "version": 3
   },
   "file_extension": ".py",
   "mimetype": "text/x-python",
   "name": "python",
   "nbconvert_exporter": "python",
   "pygments_lexer": "ipython3",
   "version": "3.7.6"
  },
  "toc": {
   "base_numbering": 1,
   "nav_menu": {},
   "number_sections": true,
   "sideBar": true,
   "skip_h1_title": false,
   "title_cell": "Table of Contents",
   "title_sidebar": "Contents",
   "toc_cell": false,
   "toc_position": {},
   "toc_section_display": true,
   "toc_window_display": false
  }
 },
 "nbformat": 4,
 "nbformat_minor": 4
}
