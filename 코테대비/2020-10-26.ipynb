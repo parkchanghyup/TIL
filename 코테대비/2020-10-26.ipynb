{
 "cells": [
  {
   "cell_type": "code",
   "execution_count": null,
   "metadata": {},
   "outputs": [],
   "source": [
    "\n",
    "\n",
    "class Solution:\n",
    "    def maxSlidingWindow(self, nums: List[int], k: int) -> List[int]:\n",
    "        results = []\n",
    "        window = collections.deque()\n",
    "        current_max = float('-inf')\n",
    "        for i, v in enumerate(nums):\n",
    "            window.append(v)\n",
    "            if i < k - 1:\n",
    "                continue\n",
    "\n",
    "            # 새로 추가된 값이 기존 최대값보다 큰 경우 교체\n",
    "            if current_max == float('-inf'):\n",
    "                current_max = max(window)\n",
    "            elif v > current_max:\n",
    "                current_max = v\n",
    "\n",
    "            results.append(current_max)\n",
    "\n",
    "            # 최대값이 윈도우에서 빠지면 초기화\n",
    "            if current_max == window.popleft():\n",
    "                current_max = float('-inf')\n",
    "        return results"
   ]
  },
  {
   "cell_type": "code",
   "execution_count": 15,
   "metadata": {
    "ExecuteTime": {
     "end_time": "2020-10-26T01:23:41.217704Z",
     "start_time": "2020-10-26T01:23:41.204743Z"
    }
   },
   "outputs": [
    {
     "data": {
      "text/plain": [
       "[1, -1]"
      ]
     },
     "execution_count": 15,
     "metadata": {},
     "output_type": "execute_result"
    }
   ],
   "source": [
    "# 최대 슬라이딩 윈도우\n",
    "from typing import List\n",
    "import collections\n",
    "'''Input: nums = [1,3,-1,-3,5,3,6,7], k = 3\n",
    "Output: [3,3,5,5,6,7]'''\n",
    "\n",
    "\n",
    "def maxSlidingWindow(nums: List[int], k: int) -> List[int]:\n",
    "    result = []\n",
    "    windows = collections.deque()\n",
    "\n",
    "    if not nums:\n",
    "        return nums\n",
    "\n",
    "    windows_max = float('-inf')\n",
    "\n",
    "    for i, v in enumerate(nums):\n",
    "        windows.append(v)\n",
    "        if i < k-1:\n",
    "            continue\n",
    "\n",
    "        if windows_max == float('-inf'):\n",
    "            windows_max = max(windows)\n",
    "        elif v > urrent_max:\n",
    "            current_max = v\n",
    "\n",
    "        result .append(windows_max)\n",
    "\n",
    "        if windows_max == windows.popleft():\n",
    "            windows_max = float('-inf')\n",
    "\n",
    "    return result\n",
    "\n",
    "\n",
    "maxSlidingWindow([1, -1], 1)"
   ]
  },
  {
   "cell_type": "code",
   "execution_count": null,
   "metadata": {},
   "outputs": [],
   "source": [
    "# 키에 따른 대기열 재구성\n",
    "\n",
    "def reconstructQueue( self,people: List[List[int]]) -> List[List[int]]:\n",
    "    heap = []\n",
    "    # 키 역순, 인덱스 삽입\n",
    "    for person in people:\n",
    "        heapq.heappush(heap, (-person[0],person[1]))\n",
    "    \n",
    "    result = []\n",
    "    #키 역순, 인덱스 추출\n",
    "    \n",
    "    while heap:\n",
    "        person = heapq.heappop(heap)\n",
    "        result.insert(person[1],[-person[0],person[1]])\n",
    "    return result"
   ]
  },
  {
   "cell_type": "code",
   "execution_count": null,
   "metadata": {},
   "outputs": [],
   "source": [
    "# 주유소\n",
    "'''\n",
    "Input: \n",
    "gas  = [1,2,3,4,5]\n",
    "cost = [3,4,5,1,2]'''\n",
    "\n",
    "\n",
    "def canCompleteCircuit( gas: List[int], cost: List[int]) -> int:\n",
    "    if sum(gas) < sum(cost):\n",
    "        return -1\n",
    "    \n",
    "    start,fuel = 0,0\n",
    "    \n",
    "    for i in range(len(gas)):\n",
    "        \n",
    "        # 출발점이 안되는 지점 판별\n",
    "        if gas[i] + fuel< cost[i]:\n",
    "            start = i+1\n",
    "            fuel = 0\n",
    "        else :\n",
    "            fuel +=gas[i]-cost[i]\n",
    "    return start\n",
    "        "
   ]
  },
  {
   "cell_type": "code",
   "execution_count": 19,
   "metadata": {
    "ExecuteTime": {
     "end_time": "2020-10-26T02:26:29.614530Z",
     "start_time": "2020-10-26T02:26:29.601564Z"
    }
   },
   "outputs": [
    {
     "data": {
      "text/plain": [
       "8"
      ]
     },
     "execution_count": 19,
     "metadata": {},
     "output_type": "execute_result"
    }
   ],
   "source": [
    "dp = collections.defaultdict(int)\n",
    "\n",
    "def fib(N:int)-> int:\n",
    "    dp[1]= 1\n",
    "    \n",
    "    for i in range(2,N+1):\n",
    "        dp[i] = dp[i-1]+dp[i-2]\n",
    "        \n",
    "    return dp[N]\n",
    "\n",
    "fib(6)"
   ]
  },
  {
   "cell_type": "code",
   "execution_count": null,
   "metadata": {},
   "outputs": [],
   "source": [
    "def zero_one_knapsack(cargo):\n",
    "    capacity = 15\n",
    "    pack = []\n",
    "    \n",
    "    \n",
    "    for i in range(len(cargo)+1):\n",
    "        pack.append([])\n",
    "        for c in range(capacity +1):\n",
    "            if i ==0 or c==0:\n",
    "                pack[i].append(0)\n",
    "            elif cargo[i-1][1] <= c:\n",
    "                pack[i].append(\n",
    "                max(\n",
    "                cargo[i-1][0] +pack[i-1][c-cargo[i-1][1]],\n",
    "                pack[i-1][c])\n",
    "                )\n",
    "            else :\n",
    "                pack[i].append(pack[i-1][c])\n",
    "                \n",
    "    return pack[-1][-1]\n",
    "\n",
    "        "
   ]
  },
  {
   "cell_type": "code",
   "execution_count": null,
   "metadata": {},
   "outputs": [],
   "source": []
  },
  {
   "cell_type": "code",
   "execution_count": null,
   "metadata": {},
   "outputs": [],
   "source": []
  }
 ],
 "metadata": {
  "kernelspec": {
   "display_name": "Python 3",
   "language": "python",
   "name": "python3"
  },
  "language_info": {
   "codemirror_mode": {
    "name": "ipython",
    "version": 3
   },
   "file_extension": ".py",
   "mimetype": "text/x-python",
   "name": "python",
   "nbconvert_exporter": "python",
   "pygments_lexer": "ipython3",
   "version": "3.7.3"
  },
  "toc": {
   "base_numbering": 1,
   "nav_menu": {},
   "number_sections": true,
   "sideBar": true,
   "skip_h1_title": false,
   "title_cell": "Table of Contents",
   "title_sidebar": "Contents",
   "toc_cell": false,
   "toc_position": {},
   "toc_section_display": true,
   "toc_window_display": false
  }
 },
 "nbformat": 4,
 "nbformat_minor": 2
}
