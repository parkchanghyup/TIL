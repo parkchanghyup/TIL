{
 "cells": [
  {
   "cell_type": "markdown",
   "metadata": {},
   "source": [
    "**DFS**"
   ]
  },
  {
   "cell_type": "code",
   "execution_count": 1,
   "metadata": {
    "ExecuteTime": {
     "end_time": "2020-10-25T13:33:04.654842Z",
     "start_time": "2020-10-25T13:33:04.636860Z"
    }
   },
   "outputs": [
    {
     "name": "stdout",
     "output_type": "stream",
     "text": [
      "1 2 7 6 8 3 4 5 "
     ]
    }
   ],
   "source": [
    "#DFS\n",
    "\n",
    "def dfs(graph,v,visited):\n",
    "    \n",
    "    # 현재 노드를 방문 처리\n",
    "    visited[v] = True\n",
    "    print(v, end = ' ')\n",
    "    # 현재 노드와 연결된 다른 노드를 재귀적으로 방문\n",
    "    for i in graph[v]:\n",
    "        if not visited[i]:\n",
    "            dfs(graph,i,visited)\n",
    "            \n",
    "            \n",
    "# 각 노드가 연결된 정보를 리스트 자료형으로 표현(2차원 리스트)\n",
    "graph = [\n",
    "  [],\n",
    "  [2, 3, 8],\n",
    "  [1, 7],\n",
    "  [1, 4, 5],\n",
    "  [3, 5],\n",
    "  [3, 4],\n",
    "  [7],\n",
    "  [2, 6, 8],\n",
    "  [1, 7]\n",
    "]\n",
    "\n",
    "# 각 노드가 방문된 정보를 리스트 자료형으로 표현(1차원 리스트)\n",
    "visited = [False] * 9\n",
    "\n",
    "# 정의된 DFS 함수 호출\n",
    "dfs(graph, 1, visited)       "
   ]
  },
  {
   "cell_type": "code",
   "execution_count": 5,
   "metadata": {
    "ExecuteTime": {
     "end_time": "2020-10-25T13:57:46.023106Z",
     "start_time": "2020-10-25T13:57:46.016111Z"
    }
   },
   "outputs": [
    {
     "name": "stdout",
     "output_type": "stream",
     "text": [
      "1 2 7 6 8 3 4 5 "
     ]
    }
   ],
   "source": [
    "def dfs(graph,i,visited):\n",
    "    visited[i] = True\n",
    "    print(i,end=' ')\n",
    "    for idx in graph[i]:\n",
    "        if not visited[idx] :\n",
    "            dfs(graph,idx,visited)\n",
    "# 각 노드가 방문된 정보를 리스트 자료형으로 표현(1차원 리스트)\n",
    "visited = [False] * 9\n",
    "\n",
    "# 정의된 DFS 함수 호출\n",
    "dfs(graph, 1, visited)              \n",
    "        "
   ]
  },
  {
   "cell_type": "markdown",
   "metadata": {},
   "source": [
    "**BFS**\n"
   ]
  },
  {
   "cell_type": "code",
   "execution_count": 9,
   "metadata": {
    "ExecuteTime": {
     "end_time": "2020-10-25T14:00:19.108048Z",
     "start_time": "2020-10-25T14:00:19.096058Z"
    }
   },
   "outputs": [
    {
     "name": "stdout",
     "output_type": "stream",
     "text": [
      "1 2 3 8 7 4 5 6 "
     ]
    }
   ],
   "source": [
    "from collections import deque\n",
    "\n",
    "def bfs(graph,start,visited):\n",
    "    \n",
    "    queue = deque([start])\n",
    "    \n",
    "    # 현재 노드 방문 처리\n",
    "    visited[start] = True\n",
    "    \n",
    "    while queue:\n",
    "        v = queue.popleft()\n",
    "        print(v, end = ' ')\n",
    "        \n",
    "        for i in graph[v]:\n",
    "            if not visited[i]:\n",
    "                queue.append(i)\n",
    "                visited[i] = True\n",
    "graph = [\n",
    "  [],\n",
    "  [2, 3, 8],\n",
    "  [1, 7],\n",
    "  [1, 4, 5],\n",
    "  [3, 5],\n",
    "  [3, 4],\n",
    "  [7],\n",
    "  [2, 6, 8],\n",
    "  [1, 7]\n",
    "]\n",
    "\n",
    "# 각 노드가 방문된 정보를 리스트 자료형으로 표현(1차원 리스트)\n",
    "visited = [False] * 9\n",
    "\n",
    "# 정의된 BFS 함수 호출\n",
    "bfs(graph, 1, visited)"
   ]
  },
  {
   "cell_type": "code",
   "execution_count": 13,
   "metadata": {
    "ExecuteTime": {
     "end_time": "2020-10-25T14:39:12.603474Z",
     "start_time": "2020-10-25T14:39:12.576492Z"
    }
   },
   "outputs": [
    {
     "name": "stdout",
     "output_type": "stream",
     "text": [
      "0 0 \n",
      "\n",
      "0 4 \n",
      "\n",
      "3 0 \n",
      "\n",
      "3\n"
     ]
    }
   ],
   "source": [
    "from collections import deque\n",
    "\n",
    "ice = ['00110', '00011', '11111', '00000']\n",
    "graph = [[x for x in y] for y in ice]\n",
    "\n",
    "dy = [1, -1, 0, 0]\n",
    "dx = [0, 0, 1, -1]\n",
    "\n",
    "\n",
    "def bfs(graph, y, x):\n",
    "\n",
    "    graph[y][x] = '1'\n",
    "\n",
    "    queue = deque([(y, x)])\n",
    "\n",
    "    while queue:\n",
    "        now = queue.popleft()\n",
    "        print(now)\n",
    "        now_y = now[0]\n",
    "        now_x = now[1]\n",
    "        \n",
    "        for i in range(4):\n",
    "            next_y = now_y + dy[i]\n",
    "            next_x = now_x + dx[i]\n",
    "\n",
    "            if next_x > -1 and next_x < 5 and next_y > -1 and next_y < 4 and graph[next_y][next_x] == '0':\n",
    "                queue.append((next_y, next_x))\n",
    "                graph[next_y][next_x] = '1'\n",
    "\n",
    "\n",
    "                \n",
    "                \n",
    "def dfs(graph,y,x  ):\n",
    "    graph[y][x] = '1'\n",
    "    \n",
    "    for _ in range(4):\n",
    "        next_y = y+dy[_]\n",
    "        next_x = x+dx[_]\n",
    "        if next_x > -1 and next_x < 5 and next_y > -1 and next_y < 4 and graph[next_y][next_x] == '0':\n",
    "            dfs(graph,next_y,next_x)\n",
    "            \n",
    "cnt = 0\n",
    "'''\n",
    "for i in range(4):\n",
    "    for j in range(5):\n",
    "        if graph[i][j] == '0':\n",
    "            bfs(graph, i, j)\n",
    "            cnt += 1'''\n",
    "for i in range(4):\n",
    "    for j in range(5):\n",
    "        if graph[i][j] =='0':\n",
    "            dfs(graph,i,j)\n",
    "            cnt+=1\n",
    "            print(i,j,'\\n')\n",
    "            \n",
    "print(cnt)"
   ]
  },
  {
   "cell_type": "code",
   "execution_count": 17,
   "metadata": {
    "ExecuteTime": {
     "end_time": "2020-10-25T15:07:24.009767Z",
     "start_time": "2020-10-25T15:07:23.990779Z"
    }
   },
   "outputs": [
    {
     "data": {
      "text/plain": [
       "['ad', 'ae', 'af', 'bd', 'be', 'bf', 'cd', 'ce', 'cf']"
      ]
     },
     "execution_count": 17,
     "metadata": {},
     "output_type": "execute_result"
    }
   ],
   "source": [
    "# 전화 번호 문자 조합\n",
    "from typing import List\n",
    "def letterCombinations( digits: str) -> List[str]:\n",
    "    def dfs(idx,string):\n",
    "        if len(string) == len(digits):\n",
    "            result.append(string)\n",
    "            return\n",
    "    \n",
    "        # 입력값 자릿수 단위 반복\n",
    "        for i in range(idx, len(digits)):\n",
    "            for j in dic[digits[idx]]:\n",
    "                dfs(i+1,string+j)\n",
    "        \n",
    "        \n",
    "        \n",
    "        \n",
    "        \n",
    "    # 예외 처리\n",
    "    if not digits:\n",
    "        return []\n",
    "    \n",
    "    dic = {\"2\": \"abc\", \"3\": \"def\", \"4\": \"ghi\", \"5\": \"jkl\",\n",
    "        \"6\": \"mno\", \"7\": \"pqrs\", \"8\": \"tuv\", \"9\": \"wxyz\"}\n",
    "    \n",
    "    result = []\n",
    "    dfs ( 0,'')\n",
    "    \n",
    "    return result\n",
    "           \n",
    "letterCombinations('23')      "
   ]
  },
  {
   "cell_type": "code",
   "execution_count": 25,
   "metadata": {
    "ExecuteTime": {
     "end_time": "2020-10-25T15:10:08.985648Z",
     "start_time": "2020-10-25T15:10:08.979644Z"
    }
   },
   "outputs": [
    {
     "name": "stdout",
     "output_type": "stream",
     "text": [
      "[(1, 2, 3), (1, 3, 2), (2, 1, 3), (2, 3, 1), (3, 1, 2), (3, 2, 1)]\n"
     ]
    }
   ],
   "source": [
    "# 순열\n",
    "import itertools\n",
    "\n",
    "List = [1,2,3]\n",
    "result = itertools.permutations(List)\n",
    "print(list(result))\n",
    "\n"
   ]
  },
  {
   "cell_type": "code",
   "execution_count": 28,
   "metadata": {
    "ExecuteTime": {
     "end_time": "2020-10-25T15:11:00.346976Z",
     "start_time": "2020-10-25T15:11:00.340978Z"
    }
   },
   "outputs": [
    {
     "name": "stdout",
     "output_type": "stream",
     "text": [
      "[(1, 2), (1, 3), (2, 3)]\n"
     ]
    }
   ],
   "source": [
    "# 조합.\n",
    "\n",
    "import itertools\n",
    "\n",
    "List = [1,2,3]\n",
    "result = itertools.combinations(List,2)\n",
    "print(list(result))\n",
    "\n"
   ]
  },
  {
   "cell_type": "code",
   "execution_count": 37,
   "metadata": {
    "ExecuteTime": {
     "end_time": "2020-10-25T15:28:35.433869Z",
     "start_time": "2020-10-25T15:28:35.424873Z"
    }
   },
   "outputs": [
    {
     "data": {
      "text/plain": [
       "[[2, 2, 3], [7]]"
      ]
     },
     "execution_count": 37,
     "metadata": {},
     "output_type": "execute_result"
    }
   ],
   "source": [
    "# 조합의 합\n",
    "from typing import List\n",
    "\n",
    "def combinationSum(candidates: List[int], target: int) -> List[List[int]]:\n",
    "    result = []\n",
    "\n",
    "    def dfs(csum, index, path):\n",
    "        # 종료 조건\n",
    "        if csum < 0:\n",
    "            return\n",
    "        elif csum == 0:\n",
    "            result.append(path)\n",
    "            return\n",
    "        \n",
    "        #자신부터 하위 원소까지의 나열  재귀 호출\n",
    "        for i in range(index, len(candidates)):\n",
    "            dfs(csum -candidates[i], i, path+[candidates[i]])\n",
    "\n",
    "    dfs(target, 0, [])\n",
    "    return result\n",
    "\n",
    "\n",
    "combinationSum([2, 3, 6, 7], 7)"
   ]
  },
  {
   "cell_type": "code",
   "execution_count": 38,
   "metadata": {
    "ExecuteTime": {
     "end_time": "2020-10-25T15:50:41.718036Z",
     "start_time": "2020-10-25T15:50:41.709041Z"
    }
   },
   "outputs": [],
   "source": [
    "# 코스 스케쥴\n",
    "'''Input: numCourses = 2, prerequisites = [[1,0]]\n",
    "Output: true'''\n",
    "def canFinish( numCourses: int, prerequisites: List[List[int]]) -> bool:\n",
    "    graph = collections.defaultdict(list)\n",
    "    \n",
    "    #그래프 구성\n",
    "    for x,y, in prerequisites:\n",
    "        graph[x].append(y)\n",
    "        \n",
    "    traced =set()\n",
    "    visited = set()\n",
    "    \n",
    "    def dfs(i):\n",
    "        #순환 구조이면 False\n",
    "        if i in traced:\n",
    "            return False\n",
    "        #이미 방문했으면 False\n",
    "        if i in visited:\n",
    "            return True\n",
    "        \n",
    "        traced.add(i)\n",
    "        for y in graph[i]:\n",
    "            if not dfs(y):\n",
    "                return False\n",
    "        # 탐색 종류 후 순환 노드 삭제\n",
    "        traced.remove(i)\n",
    "        \n",
    "        #탐색 종료후 방문 노드 추가\n",
    "        visited.add(i)\n",
    "        \n",
    "        return True\n",
    "    \n",
    "    # 순환 구조 판별\n",
    "    \n",
    "    for x in list(graph):\n",
    "        if not dfs(x):\n",
    "            return False\n",
    "        \n",
    "    return True\n",
    "    \n",
    "    "
   ]
  },
  {
   "cell_type": "code",
   "execution_count": 46,
   "metadata": {
    "ExecuteTime": {
     "end_time": "2020-10-25T16:04:10.889295Z",
     "start_time": "2020-10-25T16:04:10.874305Z"
    }
   },
   "outputs": [
    {
     "name": "stdout",
     "output_type": "stream",
     "text": [
      "defaultdict(<class 'int'>, {2: 0, 1: 1, 3: 1, 4: 2})\n"
     ]
    },
    {
     "data": {
      "text/plain": [
       "2"
      ]
     },
     "execution_count": 46,
     "metadata": {},
     "output_type": "execute_result"
    }
   ],
   "source": [
    "import heapq\n",
    "#네트워크 딜레이 (다익스트라)\n",
    "def networkDelayTime( times: List[List[int]], N: int, K: int) -> int:\n",
    "    graph = collections.defaultdict(list)\n",
    "    \n",
    "    #그래프 인접 리스트 구성\n",
    "    for u,v,w in times:\n",
    "        graph[u].append((v,w))\n",
    "    \n",
    "    #큐 변수 : [(소요시간, 정점)]\n",
    "    Q = [(0,K)]\n",
    "    \n",
    "    dist = collections.defaultdict(int)\n",
    "    \n",
    "    #우선순위 큐 최솟값 기준으로 정점까지 최단 경로 삽입\n",
    "    while Q:\n",
    "        time, node = heapq.heappop(Q)\n",
    "        if node not in dist:\n",
    "            dist[node] = time\n",
    "            for v,w in graph[node]:\n",
    "                alt = time + w\n",
    "                heapq.heappush(Q,(alt,v))\n",
    "    \n",
    "    #모든 노드의 최단 경로 존재 여부 판별\n",
    "    if len(dist) == N:\n",
    "        return max(dist.values())\n",
    "    return -1\n",
    "\n",
    "networkDelayTime(times = [[2,1,1],[2,3,1],[3,4,1]], N = 4, K = 2)        "
   ]
  },
  {
   "cell_type": "code",
   "execution_count": 7,
   "metadata": {
    "ExecuteTime": {
     "end_time": "2020-10-25T16:17:09.322841Z",
     "start_time": "2020-10-25T16:17:09.310846Z"
    }
   },
   "outputs": [
    {
     "data": {
      "text/plain": [
       "200"
      ]
     },
     "execution_count": 7,
     "metadata": {},
     "output_type": "execute_result"
    }
   ],
   "source": [
    "import heapq\n",
    "from typing import List\n",
    "import collections\n",
    "# k경유지 내 가장 저렴한 항공권\n",
    "'''\n",
    "Input: \n",
    "n = 3, edges = [[0,1,100],[1,2,100],[0,2,500]]\n",
    "src = 0, dst = 2, k = 1\n",
    "Output: 200\n",
    "'''\n",
    "import heapq\n",
    "\n",
    "\n",
    "def findCheapestPrice(n: int, edges: List[List[int]], src: int, dst: int,\n",
    "                      K: int) -> int:\n",
    "    graph = collections.defaultdict(list)\n",
    "\n",
    "    # 그래프 생성\n",
    "    for u, v, w in edges:\n",
    "        graph[u].append((v, w))\n",
    "\n",
    "    Q = [(0, src, K)]\n",
    "\n",
    "    while Q:\n",
    "        time, node, k = heapq.heappop(Q)\n",
    "\n",
    "        if node == dst:\n",
    "            return time\n",
    "        if k >= 0:\n",
    "            for v, w in graph[node]:\n",
    "                heapq.heappush(Q, (w + time, v, k - 1))\n",
    "\n",
    "    return -1\n",
    "\n",
    "\n",
    "findCheapestPrice(n=3,\n",
    "                  edges=[[0, 1, 100], [1, 2, 100], [0, 2, 500]],\n",
    "                  src=0,\n",
    "                  dst=2,\n",
    "                  K=1)"
   ]
  },
  {
   "cell_type": "code",
   "execution_count": null,
   "metadata": {},
   "outputs": [],
   "source": [
    "import bisect\n",
    "# 이진 검색\n",
    "\n",
    "'''Input: nums = [-1,0,3,5,9,12], target = 9\n",
    "Output: 4'''\n",
    "\n",
    "def search( nums: List[int], target: int) -> int:\n",
    "    index = bisect.bisect_left(nums,target)\n",
    "    \n",
    "    if index <len(nums) and nums[index] == target:\n",
    "        return index\n",
    "    else:\n",
    "        return -1\n",
    "\n",
    "        \n",
    "        "
   ]
  },
  {
   "cell_type": "code",
   "execution_count": null,
   "metadata": {},
   "outputs": [],
   "source": [
    "'''Input: numbers = [2,7,11,15], target = 9\n",
    "Output: [1,2]'''\n",
    "\n",
    "\n",
    "#두수의 합 2\n",
    "def twoSum(numbers: List[int], target: int) -> List[int]:\n",
    "    for k, v in enumerate(numbers):\n",
    "        expected = target - v\n",
    "        i = bisect.bisect_left(numbers, expected, k + 1)\n",
    "        if i < len(numbers) and numbers[i] == expected:\n",
    "            return k + 1, i + 1"
   ]
  }
 ],
 "metadata": {
  "kernelspec": {
   "display_name": "Python 3",
   "language": "python",
   "name": "python3"
  },
  "language_info": {
   "codemirror_mode": {
    "name": "ipython",
    "version": 3
   },
   "file_extension": ".py",
   "mimetype": "text/x-python",
   "name": "python",
   "nbconvert_exporter": "python",
   "pygments_lexer": "ipython3",
   "version": "3.7.3"
  },
  "toc": {
   "base_numbering": 1,
   "nav_menu": {},
   "number_sections": true,
   "sideBar": true,
   "skip_h1_title": false,
   "title_cell": "Table of Contents",
   "title_sidebar": "Contents",
   "toc_cell": false,
   "toc_position": {},
   "toc_section_display": true,
   "toc_window_display": false
  }
 },
 "nbformat": 4,
 "nbformat_minor": 4
}
